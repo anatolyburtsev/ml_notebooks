{
 "cells": [
  {
   "cell_type": "code",
   "execution_count": 14,
   "metadata": {},
   "outputs": [],
   "source": [
    "import numpy as np\n",
    "from itertools import combinations\n",
    "from IPython.core.debugger import set_trace"
   ]
  },
  {
   "cell_type": "code",
   "execution_count": 15,
   "metadata": {},
   "outputs": [],
   "source": [
    "d = np.array([\n",
    "    [1,1,1,1,1,0,1,1,1],\n",
    "    [0,1,0,1,0,0,0,0,1],\n",
    "    [0,1,0,1,0,0,0,0,1],\n",
    "    [0,0,0,1,0,0,0,0,0],\n",
    "    [0,1,1,1,1,1,0,0,1],\n",
    "    [0,1,0,0,0,0,0,0,0],\n",
    "    [1,1,1,1,1,1,1,0,1],\n",
    "    [1,0,1,0,0,0,1,1,1],\n",
    "    [1,1,0,1,0,1,0,0,1],\n",
    "    [0,1,1,1,1,1,0,0,1],\n",
    "    [1,1,0,1,0,0,0,1,1],\n",
    "    [1,1,1,1,0,0,1,1,1],\n",
    "    [1,1,0,1,0,1,1,0,1]\n",
    "])"
   ]
  },
  {
   "cell_type": "code",
   "execution_count": 16,
   "metadata": {},
   "outputs": [
    {
     "data": {
      "text/plain": [
       "array([[1, 1, 1, 1, 1, 0, 1, 1, 1],\n",
       "       [0, 1, 0, 1, 0, 0, 0, 0, 1],\n",
       "       [0, 1, 0, 1, 0, 0, 0, 0, 1],\n",
       "       [0, 0, 0, 1, 0, 0, 0, 0, 0],\n",
       "       [0, 1, 1, 1, 1, 1, 0, 0, 1],\n",
       "       [0, 1, 0, 0, 0, 0, 0, 0, 0],\n",
       "       [1, 1, 1, 1, 1, 1, 1, 0, 1],\n",
       "       [1, 0, 1, 0, 0, 0, 1, 1, 1],\n",
       "       [1, 1, 0, 1, 0, 1, 0, 0, 1],\n",
       "       [0, 1, 1, 1, 1, 1, 0, 0, 1],\n",
       "       [1, 1, 0, 1, 0, 0, 0, 1, 1],\n",
       "       [1, 1, 1, 1, 0, 0, 1, 1, 1],\n",
       "       [1, 1, 0, 1, 0, 1, 1, 0, 1]])"
      ]
     },
     "execution_count": 16,
     "metadata": {},
     "output_type": "execute_result"
    }
   ],
   "source": [
    "# d = d[:6]\n",
    "d"
   ]
  },
  {
   "cell_type": "code",
   "execution_count": 17,
   "metadata": {},
   "outputs": [
    {
     "data": {
      "text/plain": [
       "(13, 9)"
      ]
     },
     "execution_count": 17,
     "metadata": {},
     "output_type": "execute_result"
    }
   ],
   "source": [
    "len(d), len(d[0])"
   ]
  },
  {
   "cell_type": "code",
   "execution_count": 20,
   "metadata": {
    "scrolled": false
   },
   "outputs": [
    {
     "data": {
      "text/plain": [
       "[[0],\n",
       " [6],\n",
       " [0, 6],\n",
       " [0, 11],\n",
       " [6, 12],\n",
       " [0, 6, 11],\n",
       " [0, 7, 11],\n",
       " [0, 10, 11],\n",
       " [4, 6, 9],\n",
       " [6, 8, 12],\n",
       " [0, 4, 6, 9],\n",
       " [0, 6, 7, 11],\n",
       " [0, 6, 11, 12],\n",
       " [0, 7, 10, 11],\n",
       " [0, 4, 6, 9, 11],\n",
       " [0, 6, 7, 11, 12],\n",
       " [4, 6, 8, 9, 12],\n",
       " [0, 4, 6, 7, 9, 11],\n",
       " [0, 6, 8, 10, 11, 12],\n",
       " [0, 6, 7, 8, 10, 11, 12],\n",
       " [0, 1, 2, 4, 6, 8, 9, 10, 11, 12],\n",
       " [0, 1, 2, 3, 4, 6, 8, 9, 10, 11, 12],\n",
       " [0, 1, 2, 4, 5, 6, 8, 9, 10, 11, 12],\n",
       " [0, 1, 2, 4, 6, 7, 8, 9, 10, 11, 12],\n",
       " [0, 1, 2, 3, 4, 5, 6, 7, 8, 9, 10, 11, 12]]"
      ]
     },
     "execution_count": 20,
     "metadata": {},
     "output_type": "execute_result"
    }
   ],
   "source": [
    "good_in = []\n",
    "for i in range(1, len(d)+1):\n",
    "    for indexes in combinations(range(len(d)), i):\n",
    "        indexes = list(indexes)\n",
    "        vectors = d[indexes, :]\n",
    "        min_vector = vectors.min(axis=0)\n",
    "        suitable_g = []\n",
    "        for i in range(len(d)):\n",
    "            if (d[i] >= min_vector).all():\n",
    "                suitable_g.append(i)\n",
    "        if indexes == suitable_g:\n",
    "            good_in.append(indexes)\n",
    "good_in\n",
    "        "
   ]
  },
  {
   "cell_type": "code",
   "execution_count": 21,
   "metadata": {},
   "outputs": [
    {
     "data": {
      "text/plain": [
       "25"
      ]
     },
     "execution_count": 21,
     "metadata": {},
     "output_type": "execute_result"
    }
   ],
   "source": [
    "len(good_in)"
   ]
  },
  {
   "cell_type": "code",
   "execution_count": null,
   "metadata": {},
   "outputs": [],
   "source": [
    "1 --- ('T01', 'T07', 'T08', 'T12', 'T13') ['a', 'g', 'i']\n",
    "2 --- ('T01',) ['a', 'b', 'c', 'd', 'e', 'g', 'h', 'i']\n",
    "3 --- ('T01', 'T02', 'T03', 'T05', 'T06', 'T07', 'T09', 'T10', 'T11', 'T12', 'T13') ['b']\n",
    "4 --- ('T07', 'T13') ['a', 'b', 'd', 'f', 'g', 'i']\n",
    "5 --- ('T01', 'T11', 'T12') ['a', 'b', 'd', 'h', 'i']\n",
    "6 --- ('T01', 'T02', 'T03', 'T04', 'T05', 'T06', 'T07', 'T08', 'T09', 'T10', 'T11', 'T12', 'T13') []\n",
    "7 --- ('T01', 'T07', 'T08', 'T12') ['a', 'c', 'g', 'i']\n",
    "8 --- ('T01', 'T07', 'T12', 'T13') ['a', 'b', 'd', 'g', 'i']\n",
    "9 --- ('T01', 'T07', 'T09', 'T11', 'T12', 'T13') ['a', 'b', 'd', 'i']\n",
    "10 --- ('T01', 'T02', 'T03', 'T04', 'T05', 'T07', 'T09', 'T10', 'T11', 'T12', 'T13') ['d']\n",
    "11 --- ('T01', 'T05', 'T07', 'T10', 'T12') ['b', 'c', 'd', 'i']\n",
    "12 --- ('T01', 'T02', 'T03', 'T05', 'T07', 'T08', 'T09', 'T10', 'T11', 'T12', 'T13') ['i']\n",
    "13 --- ('T01', 'T08', 'T12') ['a', 'c', 'g', 'h', 'i']\n",
    "14 --- ('T07', 'T09', 'T13') ['a', 'b', 'd', 'f', 'i']\n",
    "15 --- ('T01', 'T02', 'T03', 'T05', 'T07', 'T09', 'T10', 'T11', 'T12', 'T13') ['b', 'd', 'i']\n",
    "16 --- ('T05', 'T07', 'T09', 'T10', 'T13') ['b', 'd', 'f', 'i']\n",
    "17 --- ('T01', 'T05', 'T07', 'T10') ['b', 'c', 'd', 'e', 'i']\n",
    "18 --- ('T05', 'T07', 'T10') ['b', 'c', 'd', 'e', 'f', 'i']\n",
    "19 --- ('T01', 'T08', 'T11', 'T12') ['a', 'h', 'i']\n",
    "20 --- ('T01', 'T05', 'T07', 'T08', 'T10', 'T12') ['c', 'i']\n",
    "21 --- ('T01', 'T07', 'T08', 'T09', 'T11', 'T12', 'T13') ['a', 'i']\n",
    "22 --- () M\n",
    "23 --- ('T01', 'T07') ['a', 'b', 'c', 'd', 'e', 'g', ‘i’]"
   ]
  },
  {
   "cell_type": "code",
   "execution_count": null,
   "metadata": {},
   "outputs": [],
   "source": []
  }
 ],
 "metadata": {
  "kernelspec": {
   "display_name": "Python 3",
   "language": "python",
   "name": "python3"
  },
  "language_info": {
   "codemirror_mode": {
    "name": "ipython",
    "version": 3
   },
   "file_extension": ".py",
   "mimetype": "text/x-python",
   "name": "python",
   "nbconvert_exporter": "python",
   "pygments_lexer": "ipython3",
   "version": "3.7.0"
  }
 },
 "nbformat": 4,
 "nbformat_minor": 2
}
