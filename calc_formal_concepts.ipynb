{
 "cells": [
  {
   "cell_type": "code",
   "execution_count": 1,
   "metadata": {},
   "outputs": [],
   "source": [
    "import numpy as np\n",
    "from itertools import combinations\n",
    "from IPython.core.debugger import set_trace"
   ]
  },
  {
   "cell_type": "code",
   "execution_count": 2,
   "metadata": {},
   "outputs": [],
   "source": [
    "d = np.array([\n",
    "    [1,1,1,1,1,0,1,1,1],\n",
    "    [0,1,0,1,0,0,0,0,1],\n",
    "    [0,1,0,1,0,0,0,0,1],\n",
    "    [0,0,0,1,0,0,0,0,0],\n",
    "    [0,1,1,1,1,1,0,0,1],\n",
    "    [0,1,0,0,0,0,0,0,0],\n",
    "    [1,1,1,1,1,1,1,0,1],\n",
    "    [1,0,1,0,0,0,1,1,1],\n",
    "    [1,1,0,1,0,1,0,0,1],\n",
    "    [0,1,1,1,1,1,0,0,1],\n",
    "    [1,1,0,1,0,0,0,1,1],\n",
    "    [1,1,1,1,0,0,1,1,1],\n",
    "    [1,1,0,1,0,1,1,0,1]\n",
    "])"
   ]
  },
  {
   "cell_type": "code",
   "execution_count": 3,
   "metadata": {},
   "outputs": [
    {
     "data": {
      "text/plain": [
       "array([[1, 1, 1, 1, 1, 0, 1, 1, 1],\n",
       "       [0, 1, 0, 1, 0, 0, 0, 0, 1],\n",
       "       [0, 1, 0, 1, 0, 0, 0, 0, 1],\n",
       "       [0, 0, 0, 1, 0, 0, 0, 0, 0],\n",
       "       [0, 1, 1, 1, 1, 1, 0, 0, 1],\n",
       "       [0, 1, 0, 0, 0, 0, 0, 0, 0],\n",
       "       [1, 1, 1, 1, 1, 1, 1, 0, 1],\n",
       "       [1, 0, 1, 0, 0, 0, 1, 1, 1],\n",
       "       [1, 1, 0, 1, 0, 1, 0, 0, 1],\n",
       "       [0, 1, 1, 1, 1, 1, 0, 0, 1],\n",
       "       [1, 1, 0, 1, 0, 0, 0, 1, 1],\n",
       "       [1, 1, 1, 1, 0, 0, 1, 1, 1],\n",
       "       [1, 1, 0, 1, 0, 1, 1, 0, 1]])"
      ]
     },
     "execution_count": 3,
     "metadata": {},
     "output_type": "execute_result"
    }
   ],
   "source": [
    "# d = d[:6]\n",
    "d"
   ]
  },
  {
   "cell_type": "code",
   "execution_count": 4,
   "metadata": {},
   "outputs": [
    {
     "data": {
      "text/plain": [
       "(13, 9)"
      ]
     },
     "execution_count": 4,
     "metadata": {},
     "output_type": "execute_result"
    }
   ],
   "source": [
    "len(d), len(d[0])"
   ]
  },
  {
   "cell_type": "code",
   "execution_count": 16,
   "metadata": {
    "scrolled": false
   },
   "outputs": [
    {
     "name": "stdout",
     "output_type": "stream",
     "text": [
      "('', 1, [1, 1, 1, 1, 1, 0, 1, 1, 1], [0])\n",
      "('', 1, [1, 1, 1, 1, 1, 1, 1, 0, 1], [6])\n",
      "('', 2, [1, 1, 1, 1, 1, 0, 1, 0, 1], [0, 6])\n",
      "('', 2, [1, 1, 1, 1, 0, 0, 1, 1, 1], [0, 11])\n",
      "('', 2, [1, 1, 0, 1, 0, 1, 1, 0, 1], [6, 12])\n",
      "('', 3, [1, 1, 1, 1, 0, 0, 1, 0, 1], [0, 6, 11])\n",
      "('', 3, [1, 0, 1, 0, 0, 0, 1, 1, 1], [0, 7, 11])\n",
      "('', 3, [1, 1, 0, 1, 0, 0, 0, 1, 1], [0, 10, 11])\n",
      "('', 3, [0, 1, 1, 1, 1, 1, 0, 0, 1], [4, 6, 9])\n",
      "('', 3, [1, 1, 0, 1, 0, 1, 0, 0, 1], [6, 8, 12])\n",
      "('', 4, [0, 1, 1, 1, 1, 0, 0, 0, 1], [0, 4, 6, 9])\n",
      "('', 4, [1, 0, 1, 0, 0, 0, 1, 0, 1], [0, 6, 7, 11])\n",
      "('', 4, [1, 1, 0, 1, 0, 0, 1, 0, 1], [0, 6, 11, 12])\n",
      "('', 4, [1, 0, 0, 0, 0, 0, 0, 1, 1], [0, 7, 10, 11])\n",
      "('', 5, [0, 1, 1, 1, 0, 0, 0, 0, 1], [0, 4, 6, 9, 11])\n",
      "('', 5, [1, 0, 0, 0, 0, 0, 1, 0, 1], [0, 6, 7, 11, 12])\n",
      "('', 5, [0, 1, 0, 1, 0, 1, 0, 0, 1], [4, 6, 8, 9, 12])\n",
      "('', 6, [0, 0, 1, 0, 0, 0, 0, 0, 1], [0, 4, 6, 7, 9, 11])\n",
      "('', 6, [1, 1, 0, 1, 0, 0, 0, 0, 1], [0, 6, 8, 10, 11, 12])\n",
      "('', 7, [1, 0, 0, 0, 0, 0, 0, 0, 1], [0, 6, 7, 8, 10, 11, 12])\n",
      "('', 10, [0, 1, 0, 1, 0, 0, 0, 0, 1], [0, 1, 2, 4, 6, 8, 9, 10, 11, 12])\n",
      "('', 11, [0, 0, 0, 1, 0, 0, 0, 0, 0], [0, 1, 2, 3, 4, 6, 8, 9, 10, 11, 12])\n",
      "('', 11, [0, 1, 0, 0, 0, 0, 0, 0, 0], [0, 1, 2, 4, 5, 6, 8, 9, 10, 11, 12])\n",
      "('', 11, [0, 0, 0, 0, 0, 0, 0, 0, 1], [0, 1, 2, 4, 6, 7, 8, 9, 10, 11, 12])\n",
      "('', 13, [0, 0, 0, 0, 0, 0, 0, 0, 0], [0, 1, 2, 3, 4, 5, 6, 7, 8, 9, 10, 11, 12])\n"
     ]
    }
   ],
   "source": [
    "good_in = []\n",
    "for i in range(1, len(d)+1):\n",
    "    for indexes in combinations(range(len(d)), i):\n",
    "        indexes = list(indexes)\n",
    "        vectors = d[indexes, :]\n",
    "        min_vector = vectors.min(axis=0)\n",
    "        suitable_g = []\n",
    "        for i in range(len(d)):\n",
    "            if (d[i] >= min_vector).all():\n",
    "                suitable_g.append(i)\n",
    "        if indexes == suitable_g:\n",
    "            good_in.append((\"\", len(indexes), list(min_vector), indexes))\n",
    "for i in good_in:\n",
    "    print(i)\n",
    "        "
   ]
  },
  {
   "cell_type": "code",
   "execution_count": 21,
   "metadata": {},
   "outputs": [
    {
     "data": {
      "text/plain": [
       "25"
      ]
     },
     "execution_count": 21,
     "metadata": {},
     "output_type": "execute_result"
    }
   ],
   "source": [
    "len(good_in)"
   ]
  },
  {
   "cell_type": "code",
   "execution_count": null,
   "metadata": {},
   "outputs": [],
   "source": []
  }
 ],
 "metadata": {
  "kernelspec": {
   "display_name": "Python 3",
   "language": "python",
   "name": "python3"
  },
  "language_info": {
   "codemirror_mode": {
    "name": "ipython",
    "version": 3
   },
   "file_extension": ".py",
   "mimetype": "text/x-python",
   "name": "python",
   "nbconvert_exporter": "python",
   "pygments_lexer": "ipython3",
   "version": "3.7.0"
  }
 },
 "nbformat": 4,
 "nbformat_minor": 2
}
