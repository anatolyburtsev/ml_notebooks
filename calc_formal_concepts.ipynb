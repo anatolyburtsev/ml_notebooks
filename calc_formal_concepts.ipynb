{
 "cells": [
  {
   "cell_type": "code",
   "execution_count": 57,
   "metadata": {},
   "outputs": [],
   "source": [
    "import numpy as np\n",
    "from itertools import combinations\n",
    "from IPython.core.debugger import set_trace"
   ]
  },
  {
   "cell_type": "code",
   "execution_count": 59,
   "metadata": {},
   "outputs": [],
   "source": [
    "d = np.array([\n",
    "    [1,1,1,1,1,0,1,1,1],\n",
    "    [0,1,0,1,0,0,0,0,1],\n",
    "    [0,0,0,1,0,0,0,0,0],\n",
    "    [0,1,1,1,1,1,0,0,1],\n",
    "    [0,1,0,0,0,0,0,0,0],\n",
    "    [1,1,1,1,1,1,1,0,1],\n",
    "    [1,0,1,0,0,0,1,1,1],\n",
    "    [1,1,0,1,0,1,0,0,1],\n",
    "    [0,1,1,1,1,1,0,0,1],\n",
    "    [1,1,0,1,0,0,0,1,1],\n",
    "    [1,1,1,1,0,0,1,1,1],\n",
    "    [1,1,0,1,0,1,1,0,1]\n",
    "])"
   ]
  },
  {
   "cell_type": "code",
   "execution_count": 15,
   "metadata": {},
   "outputs": [
    {
     "data": {
      "text/plain": [
       "array([[1, 1, 1, 1, 1, 0, 1, 1, 1],\n",
       "       [0, 1, 0, 1, 0, 0, 0, 0, 1],\n",
       "       [0, 0, 0, 1, 0, 0, 0, 0, 0],\n",
       "       [0, 1, 1, 1, 1, 1, 0, 0, 1],\n",
       "       [0, 1, 0, 0, 0, 0, 0, 0, 0],\n",
       "       [1, 1, 1, 1, 1, 1, 1, 0, 1]])"
      ]
     },
     "execution_count": 15,
     "metadata": {},
     "output_type": "execute_result"
    }
   ],
   "source": [
    "d = d[:6]\n",
    "d"
   ]
  },
  {
   "cell_type": "code",
   "execution_count": 60,
   "metadata": {},
   "outputs": [
    {
     "data": {
      "text/plain": [
       "(12, 9)"
      ]
     },
     "execution_count": 60,
     "metadata": {},
     "output_type": "execute_result"
    }
   ],
   "source": [
    "len(d), len(d[0])"
   ]
  },
  {
   "cell_type": "code",
   "execution_count": 61,
   "metadata": {
    "scrolled": false
   },
   "outputs": [
    {
     "data": {
      "text/plain": [
       "[[0, 5],\n",
       " [0, 10],\n",
       " [5, 11],\n",
       " [0, 5, 10],\n",
       " [0, 6, 10],\n",
       " [0, 9, 10],\n",
       " [3, 5, 8],\n",
       " [5, 7, 11],\n",
       " [0, 3, 5, 8],\n",
       " [0, 5, 6, 10],\n",
       " [0, 5, 10, 11],\n",
       " [0, 6, 9, 10],\n",
       " [0, 3, 5, 8, 10],\n",
       " [0, 5, 6, 10, 11],\n",
       " [3, 5, 7, 8, 11],\n",
       " [0, 3, 5, 6, 8, 10],\n",
       " [0, 5, 7, 9, 10, 11],\n",
       " [0, 5, 6, 7, 9, 10, 11],\n",
       " [0, 1, 3, 5, 7, 8, 9, 10, 11],\n",
       " [0, 1, 2, 3, 5, 7, 8, 9, 10, 11],\n",
       " [0, 1, 3, 4, 5, 7, 8, 9, 10, 11],\n",
       " [0, 1, 3, 5, 6, 7, 8, 9, 10, 11]]"
      ]
     },
     "execution_count": 61,
     "metadata": {},
     "output_type": "execute_result"
    }
   ],
   "source": [
    "good_in = []\n",
    "for i in range(2, len(d)):\n",
    "    for indexes in combinations(range(len(d)), i):\n",
    "        indexes = list(indexes)\n",
    "        vectors = d[indexes, :]\n",
    "        min_vector = vectors.min(axis=0)\n",
    "        suitable_g = []\n",
    "        for i in range(len(d)):\n",
    "            if (d[i] >= min_vector).all():\n",
    "                suitable_g.append(i)\n",
    "        if indexes == suitable_g:\n",
    "            good_in.append(indexes)\n",
    "good_in\n",
    "        "
   ]
  },
  {
   "cell_type": "code",
   "execution_count": null,
   "metadata": {},
   "outputs": [],
   "source": []
  }
 ],
 "metadata": {
  "kernelspec": {
   "display_name": "Python 3",
   "language": "python",
   "name": "python3"
  },
  "language_info": {
   "codemirror_mode": {
    "name": "ipython",
    "version": 3
   },
   "file_extension": ".py",
   "mimetype": "text/x-python",
   "name": "python",
   "nbconvert_exporter": "python",
   "pygments_lexer": "ipython3",
   "version": "3.7.0"
  }
 },
 "nbformat": 4,
 "nbformat_minor": 2
}
