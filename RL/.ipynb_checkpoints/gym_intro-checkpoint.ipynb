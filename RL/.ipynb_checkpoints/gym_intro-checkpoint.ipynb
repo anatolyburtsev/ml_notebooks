{
 "cells": [
  {
   "cell_type": "markdown",
   "metadata": {
    "colab_type": "text",
    "id": "ZAga94AvVyhf"
   },
   "source": [
    "<center>\n",
    "![](https://gym.openai.com/assets/dist/home/header/home-icon-54c30e2345.svg  =100x100)<br>\n",
    "[gym.openai.com](https://gym.openai.com)\n"
   ]
  },
  {
   "cell_type": "markdown",
   "metadata": {
    "colab_type": "text",
    "id": "yZ5i-ycQJDzd"
   },
   "source": [
    "Мануалка по gym: https://gym.openai.com/docs/"
   ]
  },
  {
   "cell_type": "markdown",
   "metadata": {
    "colab_type": "text",
    "id": "FcOybj0NK7Kz"
   },
   "source": [
    "## Инсталлируем gym и другие библиотеки"
   ]
  },
  {
   "cell_type": "code",
   "execution_count": 1,
   "metadata": {
    "colab": {
     "autoexec": {
      "startup": false,
      "wait_interval": 0
     }
    },
    "colab_type": "code",
    "id": "F8Xry-6Ti5Dm"
   },
   "outputs": [
    {
     "name": "stdout",
     "output_type": "stream",
     "text": [
      "/bin/sh: apt-get: command not found\n",
      "/bin/sh: apt-get: command not found\n",
      "Collecting joblib\n",
      "  Downloading https://files.pythonhosted.org/packages/4f/51/870b2ec270fc29c5d89f85353da420606a9cb39fba4747127e7c7d7eb25d/joblib-0.11-py2.py3-none-any.whl (176kB)\n",
      "\u001b[K    100% |████████████████████████████████| 184kB 1.0MB/s ta 0:00:01\n",
      "\u001b[?25hRequirement already satisfied: six in /anaconda3/lib/python3.6/site-packages\n",
      "Installing collected packages: joblib\n",
      "Successfully installed joblib-0.11\n",
      "\u001b[33mYou are using pip version 9.0.1, however version 10.0.0 is available.\n",
      "You should consider upgrading via the 'pip install --upgrade pip' command.\u001b[0m\n",
      "Requirement already satisfied: gym[all] in /anaconda3/lib/python3.6/site-packages\n",
      "Requirement already satisfied: pyglet>=1.2.0 in /anaconda3/lib/python3.6/site-packages (from gym[all])\n",
      "Requirement already satisfied: numpy>=1.10.4 in /anaconda3/lib/python3.6/site-packages (from gym[all])\n",
      "Requirement already satisfied: requests>=2.0 in /anaconda3/lib/python3.6/site-packages (from gym[all])\n",
      "Requirement already satisfied: six in /anaconda3/lib/python3.6/site-packages (from gym[all])\n",
      "Collecting atari-py>=0.1.1; extra == \"all\" (from gym[all])\n",
      "  Downloading https://files.pythonhosted.org/packages/8b/38/3c6716ac9031a686cc3228f3855e48c08a40e4d7c490dd4c21c65b465205/atari-py-0.1.1.tar.gz (760kB)\n",
      "\u001b[K    100% |████████████████████████████████| 768kB 383kB/s ta 0:00:011\n",
      "\u001b[?25hRequirement already satisfied: Pillow; extra == \"all\" in /anaconda3/lib/python3.6/site-packages (from gym[all])\n",
      "Collecting mujoco-py>=1.50; extra == \"all\" (from gym[all])\n",
      "  Downloading https://files.pythonhosted.org/packages/53/bd/c12bad1630389104ece20a793e5ab70040a7688daadd371f8b46ed583ed0/mujoco-py-1.50.1.56.tar.gz (5.8MB)\n",
      "\u001b[K    100% |████████████████████████████████| 5.8MB 190kB/s eta 0:00:01\n",
      "\u001b[?25hRequirement already satisfied: imageio; extra == \"all\" in /anaconda3/lib/python3.6/site-packages (from gym[all])\n",
      "Collecting Box2D-kengz; extra == \"all\" (from gym[all])\n",
      "  Downloading https://files.pythonhosted.org/packages/81/20/51d6c0c87f7642efb709c518fb0ca8e5eab068259588552c41da5926ae27/Box2D-kengz-2.3.3.tar.gz (425kB)\n",
      "\u001b[K    100% |████████████████████████████████| 430kB 1.6MB/s eta 0:00:01\n",
      "\u001b[?25hCollecting PyOpenGL; extra == \"all\" (from gym[all])\n",
      "  Downloading https://files.pythonhosted.org/packages/9c/1d/4544708aaa89f26c97cc09450bb333a23724a320923e74d73e028b3560f9/PyOpenGL-3.1.0.tar.gz (1.2MB)\n",
      "\u001b[K    100% |████████████████████████████████| 1.2MB 428kB/s eta 0:00:01    56% |██████████████████▏             | 665kB 5.9MB/s eta 0:00:01\n",
      "\u001b[?25hRequirement already satisfied: future in /anaconda3/lib/python3.6/site-packages (from pyglet>=1.2.0->gym[all])\n",
      "Requirement already satisfied: chardet<3.1.0,>=3.0.2 in /anaconda3/lib/python3.6/site-packages (from requests>=2.0->gym[all])\n",
      "Requirement already satisfied: idna<2.7,>=2.5 in /anaconda3/lib/python3.6/site-packages (from requests>=2.0->gym[all])\n",
      "Requirement already satisfied: urllib3<1.23,>=1.21.1 in /anaconda3/lib/python3.6/site-packages (from requests>=2.0->gym[all])\n",
      "Requirement already satisfied: certifi>=2017.4.17 in /anaconda3/lib/python3.6/site-packages (from requests>=2.0->gym[all])\n",
      "Collecting glfw>=1.4.0 (from mujoco-py>=1.50; extra == \"all\"->gym[all])\n",
      "  Downloading https://files.pythonhosted.org/packages/d2/53/f52d1dd6175eaf1f4aca81602aa7454f97c3568804f2f1029549f45e9134/glfw-1.6.0.tar.gz\n",
      "Requirement already satisfied: Cython>=0.27.2 in /anaconda3/lib/python3.6/site-packages (from mujoco-py>=1.50; extra == \"all\"->gym[all])\n",
      "Requirement already satisfied: cffi>=1.10 in /anaconda3/lib/python3.6/site-packages (from mujoco-py>=1.50; extra == \"all\"->gym[all])\n",
      "Requirement already satisfied: pycparser in /anaconda3/lib/python3.6/site-packages (from cffi>=1.10->mujoco-py>=1.50; extra == \"all\"->gym[all])\n",
      "Building wheels for collected packages: atari-py, mujoco-py, Box2D-kengz, PyOpenGL, glfw\n",
      "  Running setup.py bdist_wheel for atari-py ... \u001b[?25lerror\n",
      "  Complete output from command /anaconda3/bin/python -u -c \"import setuptools, tokenize;__file__='/private/var/folders/k4/9cjtcrz901lfp_dv4j27ldk80000gn/T/pip-build-9sk1p8bw/atari-py/setup.py';f=getattr(tokenize, 'open', open)(__file__);code=f.read().replace('\\r\\n', '\\n');f.close();exec(compile(code, __file__, 'exec'))\" bdist_wheel -d /var/folders/k4/9cjtcrz901lfp_dv4j27ldk80000gn/T/tmpaqxab521pip-wheel- --python-tag cp36:\n",
      "  running bdist_wheel\n",
      "  running build\n",
      "  mkdir -p build && cd build && cmake .. && make -j4\n",
      "  /bin/sh: cmake: command not found\n",
      "  make: *** [build] Error 127\n",
      "  Could not build atari-py: Command '['make', 'build', '-C', 'atari_py/ale_interface', '-j', '3']' returned non-zero exit status 2.. (HINT: are you sure cmake is installed? You might also be missing a library. Atari-py requires: zlib [installable as 'apt-get install zlib1g-dev' on Ubuntu].)\n",
      "  Traceback (most recent call last):\n",
      "    File \"<string>\", line 1, in <module>\n",
      "    File \"/private/var/folders/k4/9cjtcrz901lfp_dv4j27ldk80000gn/T/pip-build-9sk1p8bw/atari-py/setup.py\", line 36, in <module>\n",
      "      tests_require=['nose2']\n",
      "    File \"/anaconda3/lib/python3.6/site-packages/setuptools/__init__.py\", line 129, in setup\n",
      "      return distutils.core.setup(**attrs)\n",
      "    File \"/anaconda3/lib/python3.6/distutils/core.py\", line 148, in setup\n",
      "      dist.run_commands()\n",
      "    File \"/anaconda3/lib/python3.6/distutils/dist.py\", line 955, in run_commands\n",
      "      self.run_command(cmd)\n",
      "    File \"/anaconda3/lib/python3.6/distutils/dist.py\", line 974, in run_command\n",
      "      cmd_obj.run()\n",
      "    File \"/anaconda3/lib/python3.6/site-packages/wheel/bdist_wheel.py\", line 204, in run\n",
      "      self.run_command('build')\n",
      "    File \"/anaconda3/lib/python3.6/distutils/cmd.py\", line 313, in run_command\n",
      "      self.distribution.run_command(command)\n",
      "    File \"/anaconda3/lib/python3.6/distutils/dist.py\", line 974, in run_command\n",
      "      cmd_obj.run()\n",
      "    File \"/private/var/folders/k4/9cjtcrz901lfp_dv4j27ldk80000gn/T/pip-build-9sk1p8bw/atari-py/setup.py\", line 16, in run\n",
      "      subprocess.check_call(cmd)\n",
      "    File \"/anaconda3/lib/python3.6/subprocess.py\", line 291, in check_call\n",
      "      raise CalledProcessError(retcode, cmd)\n",
      "  subprocess.CalledProcessError: Command '['make', 'build', '-C', 'atari_py/ale_interface', '-j', '3']' returned non-zero exit status 2.\n",
      "  \n",
      "  ----------------------------------------\n",
      "\u001b[31m  Failed building wheel for atari-py\u001b[0m\n",
      "\u001b[?25h  Running setup.py clean for atari-py\n",
      "  Running setup.py bdist_wheel for mujoco-py ... \u001b[?25ldone\n",
      "\u001b[?25h  Stored in directory: /Users/onotole/Library/Caches/pip/wheels/91/0a/d1/1333dd27794b10433bb878356d2368de008f25f0df066d11d3\n",
      "  Running setup.py bdist_wheel for Box2D-kengz ... \u001b[?25lerror\n",
      "  Complete output from command /anaconda3/bin/python -u -c \"import setuptools, tokenize;__file__='/private/var/folders/k4/9cjtcrz901lfp_dv4j27ldk80000gn/T/pip-build-9sk1p8bw/Box2D-kengz/setup.py';f=getattr(tokenize, 'open', open)(__file__);code=f.read().replace('\\r\\n', '\\n');f.close();exec(compile(code, __file__, 'exec'))\" bdist_wheel -d /var/folders/k4/9cjtcrz901lfp_dv4j27ldk80000gn/T/tmpez5_mamppip-wheel- --python-tag cp36:\n",
      "  Using setuptools (version 38.4.0).\n",
      "  running bdist_wheel\n",
      "  running build\n",
      "  running build_py\n",
      "  creating build\n",
      "  creating build/lib.macosx-10.7-x86_64-3.6\n",
      "  creating build/lib.macosx-10.7-x86_64-3.6/Box2D\n",
      "  copying library/Box2D/Box2D.py -> build/lib.macosx-10.7-x86_64-3.6/Box2D\n",
      "  copying library/Box2D/__init__.py -> build/lib.macosx-10.7-x86_64-3.6/Box2D\n",
      "  creating build/lib.macosx-10.7-x86_64-3.6/Box2D/b2\n",
      "  copying library/Box2D/b2/__init__.py -> build/lib.macosx-10.7-x86_64-3.6/Box2D/b2\n",
      "  running build_ext\n",
      "  building 'Box2D._Box2D' extension\n",
      "  swigging Box2D/Box2D.i to Box2D/Box2D_wrap.cpp\n",
      "  swig -python -c++ -IBox2D -small -O -includeall -ignoremissing -w201 -globals b2Globals -outdir library/Box2D -keyword -w511 -D_SWIG_KWARGS -o Box2D/Box2D_wrap.cpp Box2D/Box2D.i\n",
      "  unable to execute 'swig': No such file or directory\n",
      "  error: command 'swig' failed with exit status 1\n",
      "  \n",
      "  ----------------------------------------\n",
      "\u001b[31m  Failed building wheel for Box2D-kengz\u001b[0m\n",
      "\u001b[?25h  Running setup.py clean for Box2D-kengz\n",
      "  Running setup.py bdist_wheel for PyOpenGL ... \u001b[?25ldone\n",
      "\u001b[?25h  Stored in directory: /Users/onotole/Library/Caches/pip/wheels/6c/00/7f/1dd736f380848720ad79a1a1de5272e0d3f79c15a42968fb58\n"
     ]
    },
    {
     "name": "stdout",
     "output_type": "stream",
     "text": [
      "  Running setup.py bdist_wheel for glfw ... \u001b[?25ldone\n",
      "\u001b[?25h  Stored in directory: /Users/onotole/Library/Caches/pip/wheels/79/bb/ea/5b39594c7b1839d703b2518a44141cdc4c1628f1b27a9ca8b9\n",
      "Successfully built mujoco-py PyOpenGL glfw\n",
      "Failed to build atari-py Box2D-kengz\n",
      "Installing collected packages: atari-py, glfw, mujoco-py, Box2D-kengz, PyOpenGL\n",
      "  Running setup.py install for atari-py ... \u001b[?25lerror\n",
      "    Complete output from command /anaconda3/bin/python -u -c \"import setuptools, tokenize;__file__='/private/var/folders/k4/9cjtcrz901lfp_dv4j27ldk80000gn/T/pip-build-9sk1p8bw/atari-py/setup.py';f=getattr(tokenize, 'open', open)(__file__);code=f.read().replace('\\r\\n', '\\n');f.close();exec(compile(code, __file__, 'exec'))\" install --record /var/folders/k4/9cjtcrz901lfp_dv4j27ldk80000gn/T/pip-y6uhain5-record/install-record.txt --single-version-externally-managed --compile:\n",
      "    running install\n",
      "    running build\n",
      "    mkdir -p build && cd build && cmake .. && make -j4\n",
      "    /bin/sh: cmake: command not found\n",
      "    make: *** [build] Error 127\n",
      "    Could not build atari-py: Command '['make', 'build', '-C', 'atari_py/ale_interface', '-j', '3']' returned non-zero exit status 2.. (HINT: are you sure cmake is installed? You might also be missing a library. Atari-py requires: zlib [installable as 'apt-get install zlib1g-dev' on Ubuntu].)\n",
      "    Traceback (most recent call last):\n",
      "      File \"<string>\", line 1, in <module>\n",
      "      File \"/private/var/folders/k4/9cjtcrz901lfp_dv4j27ldk80000gn/T/pip-build-9sk1p8bw/atari-py/setup.py\", line 36, in <module>\n",
      "        tests_require=['nose2']\n",
      "      File \"/anaconda3/lib/python3.6/site-packages/setuptools/__init__.py\", line 129, in setup\n",
      "        return distutils.core.setup(**attrs)\n",
      "      File \"/anaconda3/lib/python3.6/distutils/core.py\", line 148, in setup\n",
      "        dist.run_commands()\n",
      "      File \"/anaconda3/lib/python3.6/distutils/dist.py\", line 955, in run_commands\n",
      "        self.run_command(cmd)\n",
      "      File \"/anaconda3/lib/python3.6/distutils/dist.py\", line 974, in run_command\n",
      "        cmd_obj.run()\n",
      "      File \"/anaconda3/lib/python3.6/site-packages/setuptools/command/install.py\", line 61, in run\n",
      "        return orig.install.run(self)\n",
      "      File \"/anaconda3/lib/python3.6/distutils/command/install.py\", line 545, in run\n",
      "        self.run_command('build')\n",
      "      File \"/anaconda3/lib/python3.6/distutils/cmd.py\", line 313, in run_command\n",
      "        self.distribution.run_command(command)\n",
      "      File \"/anaconda3/lib/python3.6/distutils/dist.py\", line 974, in run_command\n",
      "        cmd_obj.run()\n",
      "      File \"/private/var/folders/k4/9cjtcrz901lfp_dv4j27ldk80000gn/T/pip-build-9sk1p8bw/atari-py/setup.py\", line 16, in run\n",
      "        subprocess.check_call(cmd)\n",
      "      File \"/anaconda3/lib/python3.6/subprocess.py\", line 291, in check_call\n",
      "        raise CalledProcessError(retcode, cmd)\n",
      "    subprocess.CalledProcessError: Command '['make', 'build', '-C', 'atari_py/ale_interface', '-j', '3']' returned non-zero exit status 2.\n",
      "    \n",
      "    ----------------------------------------\n",
      "\u001b[31mCommand \"/anaconda3/bin/python -u -c \"import setuptools, tokenize;__file__='/private/var/folders/k4/9cjtcrz901lfp_dv4j27ldk80000gn/T/pip-build-9sk1p8bw/atari-py/setup.py';f=getattr(tokenize, 'open', open)(__file__);code=f.read().replace('\\r\\n', '\\n');f.close();exec(compile(code, __file__, 'exec'))\" install --record /var/folders/k4/9cjtcrz901lfp_dv4j27ldk80000gn/T/pip-y6uhain5-record/install-record.txt --single-version-externally-managed --compile\" failed with error code 1 in /private/var/folders/k4/9cjtcrz901lfp_dv4j27ldk80000gn/T/pip-build-9sk1p8bw/atari-py/\u001b[0m\n",
      "\u001b[33mYou are using pip version 9.0.1, however version 10.0.0 is available.\n",
      "You should consider upgrading via the 'pip install --upgrade pip' command.\u001b[0m\n",
      "\u001b[?25hCollecting pyglet==1.2.4\n",
      "  Downloading https://files.pythonhosted.org/packages/68/c3/300c6f92b21886b0fe42c13f3a39a06c6cb90c9fbb1b71da85fe59091a7d/pyglet-1.2.4-py3-none-any.whl (964kB)\n",
      "\u001b[K    100% |████████████████████████████████| 972kB 1.3MB/s eta 0:00:01\n",
      "\u001b[?25hInstalling collected packages: pyglet\n",
      "  Found existing installation: pyglet 1.3.2\n",
      "    Uninstalling pyglet-1.3.2:\n",
      "      Successfully uninstalled pyglet-1.3.2\n",
      "Successfully installed pyglet-1.2.4\n",
      "\u001b[33mYou are using pip version 9.0.1, however version 10.0.0 is available.\n",
      "You should consider upgrading via the 'pip install --upgrade pip' command.\u001b[0m\n",
      "Collecting pyvirtualdisplay\n",
      "  Downloading https://files.pythonhosted.org/packages/39/37/f285403a09cc261c56b6574baace1bdcf4b8c7428c8a7239cbba137bc0eb/PyVirtualDisplay-0.2.1.tar.gz\n",
      "Collecting EasyProcess (from pyvirtualdisplay)\n",
      "  Downloading https://files.pythonhosted.org/packages/0d/f1/d2de7591e7dfc164d286fa16f051e6c0cf3141825586c3b04ae7cda7ac0f/EasyProcess-0.2.3.tar.gz\n",
      "Building wheels for collected packages: pyvirtualdisplay, EasyProcess\n",
      "  Running setup.py bdist_wheel for pyvirtualdisplay ... \u001b[?25ldone\n",
      "\u001b[?25h  Stored in directory: /Users/onotole/Library/Caches/pip/wheels/d1/8c/16/1c64227974ae29c687e4cc30fd691d5c0fd40f54446dde99da\n",
      "  Running setup.py bdist_wheel for EasyProcess ... \u001b[?25ldone\n",
      "\u001b[?25h  Stored in directory: /Users/onotole/Library/Caches/pip/wheels/b4/c6/e3/c163b04029d8fccfd54b809802640c1af587a01be8d7a04e1a\n",
      "Successfully built pyvirtualdisplay EasyProcess\n",
      "Installing collected packages: EasyProcess, pyvirtualdisplay\n",
      "Successfully installed EasyProcess-0.2.3 pyvirtualdisplay-0.2.1\n",
      "\u001b[33mYou are using pip version 9.0.1, however version 10.0.0 is available.\n",
      "You should consider upgrading via the 'pip install --upgrade pip' command.\u001b[0m\n"
     ]
    }
   ],
   "source": [
    "# # %load_ext autoreload\n",
    "# # %autoreload 2\n",
    "\n",
    "!apt-get update \n",
    "!apt-get install -y cmake swig python-opengl ffmpeg xvfb\n",
    "\n",
    "!pip install joblib six\n",
    "!pip install 'gym[all]'\n",
    "!pip install pyglet==1.2.4\n",
    "!pip install pyvirtualdisplay"
   ]
  },
  {
   "cell_type": "markdown",
   "metadata": {
    "colab_type": "text",
    "id": "slpcMvjAMJxx"
   },
   "source": [
    "## Если вы в облаке, нужно создать фиктивный дисплей "
   ]
  },
  {
   "cell_type": "code",
   "execution_count": 2,
   "metadata": {
    "colab": {
     "autoexec": {
      "startup": false,
      "wait_interval": 0
     },
     "base_uri": "https://localhost:8080/",
     "height": 54
    },
    "colab_type": "code",
    "executionInfo": {
     "elapsed": 2146,
     "status": "ok",
     "timestamp": 1524295633970,
     "user": {
      "displayName": "Igor Slinko",
      "photoUrl": "//lh4.googleusercontent.com/-KYuH_A0wMqY/AAAAAAAAAAI/AAAAAAAAADg/6WS_EWC7Be8/s50-c-k-no/photo.jpg",
      "userId": "114563565055030901209"
     },
     "user_tz": -180
    },
    "id": "HHiEHTqbMm_V",
    "outputId": "515ed4ed-1a2f-4353-b0ce-3b834be41f30"
   },
   "outputs": [
    {
     "data": {
      "text/plain": [
       "<Display cmd_param=['Xvfb', '-br', '-nolisten', 'tcp', '-screen', '0', '1400x900x24', ':1001'] cmd=['Xvfb', '-br', '-nolisten', 'tcp', '-screen', '0', '1400x900x24', ':1001'] oserror=None return_code=None stdout=\"None\" stderr=\"None\" timeout_happened=False>"
      ]
     },
     "execution_count": 2,
     "metadata": {
      "tags": []
     },
     "output_type": "execute_result"
    }
   ],
   "source": [
    "!pkill -9 Xvfb\n",
    "from pyvirtualdisplay import Display\n",
    "display = Display(visible=0, size=(1400, 900))\n",
    "display.start()"
   ]
  },
  {
   "cell_type": "markdown",
   "metadata": {
    "colab_type": "text",
    "id": "VEUPq4bwHR2E"
   },
   "source": [
    "## Поиграем в Space Invaders!"
   ]
  },
  {
   "cell_type": "code",
   "execution_count": 0,
   "metadata": {
    "colab": {
     "autoexec": {
      "startup": false,
      "wait_interval": 0
     }
    },
    "colab_type": "code",
    "id": "Ys2uD_7KZO40"
   },
   "outputs": [],
   "source": [
    "import gym\n",
    "\n",
    "env = gym.make('SpaceInvaders-v0')\n",
    "env.reset()\n",
    "screen = env.render(mode='rgb_array')"
   ]
  },
  {
   "cell_type": "code",
   "execution_count": 3,
   "metadata": {
    "colab": {
     "autoexec": {
      "startup": false,
      "wait_interval": 0
     },
     "base_uri": "https://localhost:8080/",
     "height": 269
    },
    "colab_type": "code",
    "executionInfo": {
     "elapsed": 173,
     "status": "ok",
     "timestamp": 1524297562601,
     "user": {
      "displayName": "Igor Slinko",
      "photoUrl": "//lh4.googleusercontent.com/-KYuH_A0wMqY/AAAAAAAAAAI/AAAAAAAAADg/6WS_EWC7Be8/s50-c-k-no/photo.jpg",
      "userId": "114563565055030901209"
     },
     "user_tz": -180
    },
    "id": "YCVoX3fgNdhX",
    "outputId": "d3ba5692-8129-41e3-d144-7bc3ae865853"
   },
   "outputs": [
    {
     "data": {
      "image/png": "[encoded data removed]",
      "text/plain": [
       "<Figure size 432x288 with 1 Axes>"
      ]
     },
     "metadata": {
      "tags": []
     },
     "output_type": "display_data"
    }
   ],
   "source": [
    "import matplotlib.pyplot as plt\n",
    "plt.imshow(screen);"
   ]
  },
  {
   "cell_type": "markdown",
   "metadata": {
    "colab_type": "text",
    "id": "tZ25dSW3HxNX"
   },
   "source": [
    "## Функции env"
   ]
  },
  {
   "cell_type": "code",
   "execution_count": 4,
   "metadata": {
    "colab": {
     "autoexec": {
      "startup": false,
      "wait_interval": 0
     },
     "base_uri": "https://localhost:8080/",
     "height": 34
    },
    "colab_type": "code",
    "executionInfo": {
     "elapsed": 54,
     "status": "ok",
     "timestamp": 1524297630095,
     "user": {
      "displayName": "Igor Slinko",
      "photoUrl": "//lh4.googleusercontent.com/-KYuH_A0wMqY/AAAAAAAAAAI/AAAAAAAAADg/6WS_EWC7Be8/s50-c-k-no/photo.jpg",
      "userId": "114563565055030901209"
     },
     "user_tz": -180
    },
    "id": "s0aautT1a7F7",
    "outputId": "029c54f7-84ac-4638-f798-01f388eb8c13"
   },
   "outputs": [
    {
     "data": {
      "text/plain": [
       "Discrete(6)"
      ]
     },
     "execution_count": 4,
     "metadata": {
      "tags": []
     },
     "output_type": "execute_result"
    }
   ],
   "source": [
    "env.action_space"
   ]
  },
  {
   "cell_type": "code",
   "execution_count": 5,
   "metadata": {
    "colab": {
     "autoexec": {
      "startup": false,
      "wait_interval": 0
     },
     "base_uri": "https://localhost:8080/",
     "height": 34
    },
    "colab_type": "code",
    "executionInfo": {
     "elapsed": 62,
     "status": "ok",
     "timestamp": 1524297630799,
     "user": {
      "displayName": "Igor Slinko",
      "photoUrl": "//lh4.googleusercontent.com/-KYuH_A0wMqY/AAAAAAAAAAI/AAAAAAAAADg/6WS_EWC7Be8/s50-c-k-no/photo.jpg",
      "userId": "114563565055030901209"
     },
     "user_tz": -180
    },
    "id": "Nt2pFrRObNcR",
    "outputId": "6aeee272-750b-402f-a8d2-b4f4a15169cc"
   },
   "outputs": [
    {
     "data": {
      "text/plain": [
       "Box(210, 160, 3)"
      ]
     },
     "execution_count": 5,
     "metadata": {
      "tags": []
     },
     "output_type": "execute_result"
    }
   ],
   "source": [
    "env.observation_space"
   ]
  },
  {
   "cell_type": "code",
   "execution_count": 6,
   "metadata": {
    "colab": {
     "autoexec": {
      "startup": false,
      "wait_interval": 0
     },
     "base_uri": "https://localhost:8080/",
     "height": 840
    },
    "colab_type": "code",
    "executionInfo": {
     "elapsed": 62,
     "status": "ok",
     "timestamp": 1524297631994,
     "user": {
      "displayName": "Igor Slinko",
      "photoUrl": "//lh4.googleusercontent.com/-KYuH_A0wMqY/AAAAAAAAAAI/AAAAAAAAADg/6WS_EWC7Be8/s50-c-k-no/photo.jpg",
      "userId": "114563565055030901209"
     },
     "user_tz": -180
    },
    "id": "SYpa8YxNcn5Q",
    "outputId": "fd826a74-5053-4ae3-920c-519d65713990"
   },
   "outputs": [
    {
     "name": "stdout",
     "output_type": "stream",
     "text": [
      "[[[ 0  0  0]\n",
      "  [ 0  0  0]\n",
      "  [ 0  0  0]\n",
      "  ...\n",
      "  [ 0  0  0]\n",
      "  [ 0  0  0]\n",
      "  [ 0  0  0]]\n",
      "\n",
      " [[ 0  0  0]\n",
      "  [ 0  0  0]\n",
      "  [ 0  0  0]\n",
      "  ...\n",
      "  [ 0  0  0]\n",
      "  [ 0  0  0]\n",
      "  [ 0  0  0]]\n",
      "\n",
      " [[ 0  0  0]\n",
      "  [ 0  0  0]\n",
      "  [ 0  0  0]\n",
      "  ...\n",
      "  [ 0  0  0]\n",
      "  [ 0  0  0]\n",
      "  [ 0  0  0]]\n",
      "\n",
      " ...\n",
      "\n",
      " [[80 89 22]\n",
      "  [80 89 22]\n",
      "  [80 89 22]\n",
      "  ...\n",
      "  [80 89 22]\n",
      "  [80 89 22]\n",
      "  [80 89 22]]\n",
      "\n",
      " [[80 89 22]\n",
      "  [80 89 22]\n",
      "  [80 89 22]\n",
      "  ...\n",
      "  [80 89 22]\n",
      "  [80 89 22]\n",
      "  [80 89 22]]\n",
      "\n",
      " [[80 89 22]\n",
      "  [80 89 22]\n",
      "  [80 89 22]\n",
      "  ...\n",
      "  [80 89 22]\n",
      "  [80 89 22]\n",
      "  [80 89 22]]] 0.0 False {'ale.lives': 3}\n"
     ]
    }
   ],
   "source": [
    "observation, reward, done, info = env.step(env.action_space.sample())\n",
    "print(observation, reward, done, info)"
   ]
  },
  {
   "cell_type": "markdown",
   "metadata": {
    "colab_type": "text",
    "id": "Fea1Eb79LW4V"
   },
   "source": [
    "## Поиграем слуайным агентом:"
   ]
  },
  {
   "cell_type": "code",
   "execution_count": 0,
   "metadata": {
    "colab": {
     "autoexec": {
      "startup": false,
      "wait_interval": 0
     }
    },
    "colab_type": "code",
    "id": "F3CB8NLELcuu"
   },
   "outputs": [],
   "source": [
    "import gym\n",
    "env = gym.make('SpaceInvaders-v0')  # создаем среду\n",
    "observation = env.reset()      # сбрасываем env – это нужно делать перед каждой игрой\n",
    "for t in range(1000):           # делаем 100 шагов внутри эпизода\n",
    "    env.render()             # раскомментировать, если запускаете локально\n",
    "    action = env.action_space.sample()  # выбираем случайное действие\n",
    "    observation, reward, done, info = env.step(action)   # совершаем шаг\n",
    "    if done:                   # если игра закончилась – перестаем совершать шаги\n",
    "        break\n",
    "env.close()"
   ]
  },
  {
   "cell_type": "code",
   "execution_count": 0,
   "metadata": {
    "colab": {
     "autoexec": {
      "startup": false,
      "wait_interval": 0
     }
    },
    "colab_type": "code",
    "id": "u4CtzbAQXb5B"
   },
   "outputs": [],
   "source": [
    "def download_last_video(dirname='videos'):\n",
    "    import os\n",
    "    import time\n",
    "    from google.colab import files\n",
    "\n",
    "    files_sorted = [x[0] for x in sorted([(fn, os.stat(dirname + '/' + fn)) \n",
    "                                   for fn in os.listdir(dirname)], \n",
    "                                  key = lambda x: -x[1].st_ctime)]\n",
    "    video_found = False\n",
    "    for file in files_sorted:\n",
    "        if file.endswith(\".mp4\"):\n",
    "            files.download(dirname + '/' + file)\n",
    "            video_found = True\n",
    "            break\n",
    "    if not video_found:\n",
    "        print('Video not found:', files_sorted)"
   ]
  },
  {
   "cell_type": "markdown",
   "metadata": {
    "colab_type": "text",
    "id": "LW3qth3MeZya"
   },
   "source": [
    "## Запишем видео на colab:"
   ]
  },
  {
   "cell_type": "code",
   "execution_count": 0,
   "metadata": {
    "colab": {
     "autoexec": {
      "startup": false,
      "wait_interval": 0
     }
    },
    "colab_type": "code",
    "id": "rC4pNWCrd26g"
   },
   "outputs": [],
   "source": [
    "# Cоздаем среду:\n",
    "import gym\n",
    "env = gym.make('SpaceInvaders-v0').env\n",
    "\n",
    "import gym.wrappers\n",
    "env = gym.wrappers.Monitor(env,directory='videos', force=True)\n",
    "\n",
    "# Играем:\n",
    "observation = env.reset()      # сбрасываем env – это нужно делать перед каждой игрой\n",
    "for t in range(1000):           # делаем 100 шагов внутри эпизода\n",
    "    action = env.action_space.sample()           # выбираем случайное действие\n",
    "    observation, reward, done, info = env.step(action)   # совершаем шаг\n",
    "    if done:                   # если игра закончилась – перестаем совершать шаги\n",
    "        break\n",
    "env.close()\n",
    "\n",
    "download_last_video(dirname='videos')"
   ]
  },
  {
   "cell_type": "code",
   "execution_count": 0,
   "metadata": {
    "colab": {
     "autoexec": {
      "startup": false,
      "wait_interval": 0
     }
    },
    "colab_type": "code",
    "id": "Tewf4gIRes-n"
   },
   "outputs": [],
   "source": []
  }
 ],
 "metadata": {
  "colab": {
   "collapsed_sections": [],
   "default_view": {},
   "name": "gym_intro.ipynb",
   "provenance": [],
   "version": "0.3.2",
   "views": {}
  },
  "kernelspec": {
   "display_name": "Python 3",
   "language": "python",
   "name": "python3"
  },
  "language_info": {
   "codemirror_mode": {
    "name": "ipython",
    "version": 3
   },
   "file_extension": ".py",
   "mimetype": "text/x-python",
   "name": "python",
   "nbconvert_exporter": "python",
   "pygments_lexer": "ipython3",
   "version": "3.6.4"
  }
 },
 "nbformat": 4,
 "nbformat_minor": 1
}
