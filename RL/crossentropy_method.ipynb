{
 "cells": [
  {
   "cell_type": "code",
   "execution_count": 1,
   "metadata": {
    "colab": {
     "autoexec": {
      "startup": false,
      "wait_interval": 0
     }
    },
    "colab_type": "code",
    "id": "YZGA6wGMs45h"
   },
   "outputs": [
    {
     "name": "stdout",
     "output_type": "stream",
     "text": [
      "/bin/sh: apt-get: command not found\n",
      "/bin/sh: apt-get: command not found\n",
      "Requirement already satisfied: joblib in /anaconda3/lib/python3.6/site-packages\n",
      "Requirement already satisfied: six in /anaconda3/lib/python3.6/site-packages\n",
      "\u001b[33mYou are using pip version 9.0.1, however version 10.0.0 is available.\n",
      "You should consider upgrading via the 'pip install --upgrade pip' command.\u001b[0m\n",
      "Requirement already satisfied: gym[all] in /anaconda3/lib/python3.6/site-packages\n",
      "Requirement already satisfied: numpy>=1.10.4 in /anaconda3/lib/python3.6/site-packages (from gym[all])\n",
      "Requirement already satisfied: requests>=2.0 in /anaconda3/lib/python3.6/site-packages (from gym[all])\n",
      "Requirement already satisfied: six in /anaconda3/lib/python3.6/site-packages (from gym[all])\n",
      "Requirement already satisfied: pyglet>=1.2.0 in /anaconda3/lib/python3.6/site-packages (from gym[all])\n",
      "Requirement already satisfied: Box2D-kengz; extra == \"all\" in /anaconda3/lib/python3.6/site-packages (from gym[all])\n",
      "Requirement already satisfied: PyOpenGL; extra == \"all\" in /anaconda3/lib/python3.6/site-packages (from gym[all])\n",
      "Requirement already satisfied: atari-py>=0.1.1; extra == \"all\" in /anaconda3/lib/python3.6/site-packages (from gym[all])\n",
      "Requirement already satisfied: mujoco-py>=1.50; extra == \"all\" in /anaconda3/lib/python3.6/site-packages (from gym[all])\n",
      "Requirement already satisfied: Pillow; extra == \"all\" in /anaconda3/lib/python3.6/site-packages (from gym[all])\n",
      "Requirement already satisfied: imageio; extra == \"all\" in /anaconda3/lib/python3.6/site-packages (from gym[all])\n",
      "Requirement already satisfied: chardet<3.1.0,>=3.0.2 in /anaconda3/lib/python3.6/site-packages (from requests>=2.0->gym[all])\n",
      "Requirement already satisfied: idna<2.7,>=2.5 in /anaconda3/lib/python3.6/site-packages (from requests>=2.0->gym[all])\n",
      "Requirement already satisfied: urllib3<1.23,>=1.21.1 in /anaconda3/lib/python3.6/site-packages (from requests>=2.0->gym[all])\n",
      "Requirement already satisfied: certifi>=2017.4.17 in /anaconda3/lib/python3.6/site-packages (from requests>=2.0->gym[all])\n",
      "Requirement already satisfied: Cython>=0.27.2 in /anaconda3/lib/python3.6/site-packages (from mujoco-py>=1.50; extra == \"all\"->gym[all])\n",
      "Requirement already satisfied: glfw>=1.4.0 in /anaconda3/lib/python3.6/site-packages (from mujoco-py>=1.50; extra == \"all\"->gym[all])\n",
      "Requirement already satisfied: cffi>=1.10 in /anaconda3/lib/python3.6/site-packages (from mujoco-py>=1.50; extra == \"all\"->gym[all])\n",
      "Requirement already satisfied: pycparser in /anaconda3/lib/python3.6/site-packages (from cffi>=1.10->mujoco-py>=1.50; extra == \"all\"->gym[all])\n",
      "\u001b[33mYou are using pip version 9.0.1, however version 10.0.0 is available.\n",
      "You should consider upgrading via the 'pip install --upgrade pip' command.\u001b[0m\n",
      "Requirement already satisfied: pyglet==1.2.4 in /anaconda3/lib/python3.6/site-packages\n",
      "\u001b[33mYou are using pip version 9.0.1, however version 10.0.0 is available.\n",
      "You should consider upgrading via the 'pip install --upgrade pip' command.\u001b[0m\n",
      "Requirement already satisfied: pyvirtualdisplay in /anaconda3/lib/python3.6/site-packages\n",
      "Requirement already satisfied: EasyProcess in /anaconda3/lib/python3.6/site-packages (from pyvirtualdisplay)\n",
      "\u001b[33mYou are using pip version 9.0.1, however version 10.0.0 is available.\n",
      "You should consider upgrading via the 'pip install --upgrade pip' command.\u001b[0m\n",
      "Collecting pillow\n",
      "  Downloading https://files.pythonhosted.org/packages/9c/7b/f22381dec311c2771541e6d37dd47c8a3000c4b8f61c578bf48585422c11/Pillow-5.1.0-cp36-cp36m-macosx_10_6_intel.macosx_10_9_intel.macosx_10_9_x86_64.macosx_10_10_intel.macosx_10_10_x86_64.whl (3.6MB)\n",
      "\u001b[K    100% |████████████████████████████████| 3.6MB 347kB/s ta 0:00:011\n",
      "\u001b[?25hInstalling collected packages: pillow\n",
      "Successfully installed pillow-5.1.0\n",
      "\u001b[33mYou are using pip version 9.0.1, however version 10.0.0 is available.\n",
      "You should consider upgrading via the 'pip install --upgrade pip' command.\u001b[0m\n"
     ]
    }
   ],
   "source": [
    "!apt-get update \n",
    "!apt-get install -y cmake swig python-opengl ffmpeg xvfb\n",
    "\n",
    "!pip install joblib six\n",
    "!pip install 'gym[all]'\n",
    "!pip install pyglet==1.2.4\n",
    "!pip install pyvirtualdisplay\n",
    "!pip install --no-cache-dir -I pillow"
   ]
  },
  {
   "cell_type": "code",
   "execution_count": 30,
   "metadata": {
    "colab": {
     "autoexec": {
      "startup": false,
      "wait_interval": 0
     }
    },
    "colab_type": "code",
    "id": "cwW1if0as7St"
   },
   "outputs": [
    {
     "ename": "SyntaxError",
     "evalue": "invalid syntax (<ipython-input-30-07df55e48b49>, line 19)",
     "output_type": "error",
     "traceback": [
      "\u001b[0;36m  File \u001b[0;32m\"<ipython-input-30-07df55e48b49>\"\u001b[0;36m, line \u001b[0;32m19\u001b[0m\n\u001b[0;31m    for a:\u001b[0m\n\u001b[0m         ^\u001b[0m\n\u001b[0;31mSyntaxError\u001b[0m\u001b[0;31m:\u001b[0m invalid syntax\n"
     ]
    }
   ],
   "source": [
    "# создаем фиктивный дисплей:\n",
    "# !pkill -9 Xvfb\n",
    "# from pyvirtualdisplay import Display\n",
    "# display = Display(visible=0, size=(1400, 900))\n",
    "# display.start()\n",
    "\n",
    "import matplotlib.pyplot as plt\n",
    "import gym\n",
    "import numpy as np\n",
    "import scipy\n",
    "import matplotlib.animation as animation \n",
    "# from google.colab import files\n",
    "\n",
    "def make_video(frames):\n",
    "    # Cоздаем окно, в которое будем писать кадры:\n",
    "    fig = plt.figure()\n",
    "    plt.axis('off')\n",
    "    im = plt.imshow([[0]])\n",
    "\n",
    "    # Конвертируем кадры в видео:\n",
    "    video = animation.FuncAnimation(fig, im.set_data, frames)\n",
    "    video.save('demo.mp4', writer=animation.FFMpegWriter(), dpi=100)\n",
    "\n",
    "    # Cкачиваем файлы с colab:\n",
    "    files.download('demo.mp4')"
   ]
  },
  {
   "cell_type": "markdown",
   "metadata": {
    "colab_type": "text",
    "id": "V7TARtWns08d"
   },
   "source": [
    "# Crossentropy method\n",
    "\n",
    "This notebook will teach you to solve reinforcement learning problems with crossentropy method. We'll follow-up by scaling everything up and using neural network policy."
   ]
  },
  {
   "cell_type": "code",
   "execution_count": 3,
   "metadata": {
    "colab": {
     "autoexec": {
      "startup": false,
      "wait_interval": 0
     }
    },
    "colab_type": "code",
    "id": "aI7WPk8Fs08i",
    "outputId": "cb6766a3-c51f-4ec4-d5d3-892b7caa69eb"
   },
   "outputs": [
    {
     "name": "stdout",
     "output_type": "stream",
     "text": [
      "+---------+\n",
      "|\u001b[35mR\u001b[0m: | : :G|\n",
      "| : : : : |\n",
      "| : : : : |\n",
      "| |\u001b[43m \u001b[0m: | : |\n",
      "|Y| : |\u001b[34;1mB\u001b[0m: |\n",
      "+---------+\n",
      "\n"
     ]
    }
   ],
   "source": [
    "env = gym.make(\"Taxi-v2\")\n",
    "env.reset()\n",
    "env.render()"
   ]
  },
  {
   "cell_type": "code",
   "execution_count": 4,
   "metadata": {
    "colab": {
     "autoexec": {
      "startup": false,
      "wait_interval": 0
     }
    },
    "colab_type": "code",
    "id": "VFyIPa46s08n",
    "outputId": "9f296803-79ca-4717-9a99-8793b031d769"
   },
   "outputs": [
    {
     "name": "stdout",
     "output_type": "stream",
     "text": [
      "n_states=500, n_actions=6\n"
     ]
    }
   ],
   "source": [
    "n_states = env.observation_space.n\n",
    "n_actions = env.action_space.n\n",
    "\n",
    "print(\"n_states=%i, n_actions=%i\"%(n_states,n_actions))"
   ]
  },
  {
   "cell_type": "markdown",
   "metadata": {
    "colab_type": "text",
    "id": "CNfeMQrIs08r"
   },
   "source": [
    "# Create stochastic policy\n",
    "\n",
    "This time our policy should be a probability distribution.\n",
    "\n",
    "```policy[s,a] = P(take action a | in state s)```\n",
    "\n",
    "Since we still use integer state and action representations, you can use a 2-dimensional array to represent the policy.\n",
    "\n",
    "Please initialize policy __uniformly__, that is, probabililities of all actions should be equal.\n"
   ]
  },
  {
   "cell_type": "code",
   "execution_count": 6,
   "metadata": {
    "colab": {
     "autoexec": {
      "startup": false,
      "wait_interval": 0
     }
    },
    "colab_type": "code",
    "id": "IQhB-l_ts08s"
   },
   "outputs": [],
   "source": [
    "# policy = <your code here! Create an array to store action probabilities>"
   ]
  },
  {
   "cell_type": "code",
   "execution_count": 8,
   "metadata": {
    "colab": {
     "autoexec": {
      "startup": false,
      "wait_interval": 0
     }
    },
    "colab_type": "code",
    "id": "B9B5kWM9s08u"
   },
   "outputs": [],
   "source": [
    "# assert type(policy) in (np.ndarray,np.matrix)\n",
    "# assert np.allclose(policy,1./n_actions)\n",
    "# assert np.allclose(np.sum(policy,axis=1), 1)"
   ]
  },
  {
   "cell_type": "markdown",
   "metadata": {
    "colab_type": "text",
    "id": "nh7nuNN5s08w"
   },
   "source": [
    "# Play the game\n",
    "\n",
    "Just like before, but we also record all states and actions we took."
   ]
  },
  {
   "cell_type": "code",
   "execution_count": 9,
   "metadata": {
    "colab": {
     "autoexec": {
      "startup": false,
      "wait_interval": 0
     }
    },
    "colab_type": "code",
    "id": "FCdcYax9s08x"
   },
   "outputs": [
    {
     "ename": "SyntaxError",
     "evalue": "invalid syntax (<ipython-input-9-2192986fadf0>, line 14)",
     "output_type": "error",
     "traceback": [
      "\u001b[0;36m  File \u001b[0;32m\"<ipython-input-9-2192986fadf0>\"\u001b[0;36m, line \u001b[0;32m14\u001b[0m\n\u001b[0;31m    a = <sample action from policy (hint: use np.random.choice)>\u001b[0m\n\u001b[0m        ^\u001b[0m\n\u001b[0;31mSyntaxError\u001b[0m\u001b[0;31m:\u001b[0m invalid syntax\n"
     ]
    }
   ],
   "source": [
    "# def generate_session(policy,t_max=10**4):\n",
    "#     \"\"\"\n",
    "#     Play game until end or for t_max ticks.\n",
    "#     :param policy: an array of shape [n_states,n_actions] with action probabilities\n",
    "#     :returns: list of states, list of actions and sum of rewards\n",
    "#     \"\"\"\n",
    "#     states,actions = [],[]\n",
    "#     total_reward = 0.\n",
    "    \n",
    "#     s = env.reset()\n",
    "    \n",
    "#     for t in range(t_max):\n",
    "        \n",
    "#         a = <sample action from policy (hint: use np.random.choice)>\n",
    "        \n",
    "#         new_s,r,done,info = env.step(a)\n",
    "        \n",
    "#         #Record state, action and add up reward to states,actions and total_reward accordingly. \n",
    "#         states.append(s)\n",
    "#         actions.append(a)\n",
    "#         total_reward+=r\n",
    "        \n",
    "#         s = new_s\n",
    "#         if done:\n",
    "#             break\n",
    "#     return states,actions,total_reward\n",
    "        "
   ]
  },
  {
   "cell_type": "code",
   "execution_count": null,
   "metadata": {
    "colab": {
     "autoexec": {
      "startup": false,
      "wait_interval": 0
     }
    },
    "colab_type": "code",
    "id": "8hzv8R28s08z"
   },
   "outputs": [],
   "source": [
    "# s,a,r = generate_session(policy)\n",
    "# assert type(s) == type(a) == list\n",
    "# assert len(s) == len(a)\n",
    "# assert type(r) in [float,np.float]"
   ]
  },
  {
   "cell_type": "code",
   "execution_count": 11,
   "metadata": {
    "colab": {
     "autoexec": {
      "startup": false,
      "wait_interval": 0
     }
    },
    "colab_type": "code",
    "id": "_2iwnNDHs082"
   },
   "outputs": [],
   "source": [
    "# #let's see the initial reward distribution\n",
    "# import matplotlib.pyplot as plt\n",
    "# %matplotlib inline\n",
    "\n",
    "# sample_rewards = [generate_session(policy,t_max=1000)[-1] for _ in range(200)]\n",
    "\n",
    "# plt.hist(sample_rewards,bins=20);\n",
    "# plt.vlines([np.percentile(sample_rewards,50)],[0],[100],label=\"50'th percentile\",color='green')\n",
    "# plt.vlines([np.percentile(sample_rewards,90)],[0],[100],label=\"90'th percentile\",color='red')\n",
    "# plt.legend()"
   ]
  },
  {
   "cell_type": "markdown",
   "metadata": {
    "colab_type": "text",
    "id": "FI8tTT11s085"
   },
   "source": [
    "### Crossentropy method steps (2pts)"
   ]
  },
  {
   "cell_type": "code",
   "execution_count": 12,
   "metadata": {
    "colab": {
     "autoexec": {
      "startup": false,
      "wait_interval": 0
     }
    },
    "colab_type": "code",
    "id": "LJIB9_P4s086"
   },
   "outputs": [],
   "source": [
    "def select_elites(states_batch,actions_batch,rewards_batch,percentile=50):\n",
    "    \"\"\"\n",
    "    Select states and actions from games that have rewards >= percentile\n",
    "    :param states_batch: list of lists of states, states_batch[session_i][t]\n",
    "    :param actions_batch: list of lists of actions, actions_batch[session_i][t]\n",
    "    :param rewards_batch: list of rewards, rewards_batch[session_i][t]\n",
    "    \n",
    "    :returns: elite_states,elite_actions, both 1D lists of states and respective actions from elite sessions\n",
    "    \n",
    "    Please return elite states and actions in their original order \n",
    "    [i.e. sorted by session number and timestep within session]\n",
    "    \n",
    "    If you're confused, see examples below. Please don't assume that states are integers (they'll get different later).\n",
    "    \"\"\"\n",
    "    \n",
    "    reward_threshold = np.percentile(rewards_batch, percentile)\n",
    "    states_batch = np.array(states_batch)\n",
    "    actions_batch = np.array(actions_batch)\n",
    "    \n",
    "    elite_mask = rewards_batch > reward_threshold\n",
    "    elite_states  = states_batch[elite_mask]\n",
    "    elite_actions = actions_batch[elite_mask]\n",
    "    \n",
    "    elite_states = np.concatenate(elite_states)\n",
    "    elite_actions = np.concatenate(elite_actions)\n",
    "    \n",
    "    return elite_states,elite_actions\n",
    "    "
   ]
  },
  {
   "cell_type": "code",
   "execution_count": 13,
   "metadata": {
    "colab": {
     "autoexec": {
      "startup": false,
      "wait_interval": 0
     }
    },
    "colab_type": "code",
    "id": "vxrPCKSTs089"
   },
   "outputs": [],
   "source": [
    "# states_batch = [\n",
    "#     [1,2,3],   #game1\n",
    "#     [4,2,0,2], #game2\n",
    "#     [3,1]      #game3\n",
    "# ]\n",
    "\n",
    "# actions_batch = [\n",
    "#     [0,2,4],   #game1\n",
    "#     [3,2,0,1], #game2\n",
    "#     [3,3]      #game3\n",
    "# ]\n",
    "# rewards_batch = [\n",
    "#     3,         #game1\n",
    "#     4,         #game2\n",
    "#     5,         #game3\n",
    "# ]\n",
    "\n",
    "# test_result_0 = select_elites(states_batch,actions_batch,rewards_batch,percentile=0)\n",
    "# test_result_40 = select_elites(states_batch,actions_batch,rewards_batch,percentile=30)\n",
    "# test_result_90 = select_elites(states_batch,actions_batch,rewards_batch,percentile=90)\n",
    "# test_result_100 = select_elites(states_batch,actions_batch,rewards_batch,percentile=100)\n",
    "\n",
    "# assert np.all(test_result_0[0] == [1, 2, 3, 4, 2, 0, 2, 3, 1])  \\\n",
    "#    and np.all(test_result_0[1] == [0, 2, 4, 3, 2, 0, 1, 3, 3]),\\\n",
    "#         \"For percentile 0 you should return all states and actions in chronological order\"\n",
    "# assert np.all(test_result_40[0] == [4, 2, 0, 2, 3, 1]) and \\\n",
    "#         np.all(test_result_40[1] ==[3, 2, 0, 1, 3, 3]),\\\n",
    "#         \"For percentile 30 you should only select states/actions from two first\"\n",
    "# assert np.all(test_result_90[0] == [3,1]) and \\\n",
    "#         np.all(test_result_90[1] == [3,3]),\\\n",
    "#         \"For percentile 90 you should only select states/actions from one game\"\n",
    "# assert np.all(test_result_100[0] == [3,1]) and\\\n",
    "#        np.all(test_result_100[1] == [3,3]),\\\n",
    "#         \"Please make sure you use >=, not >. Also double-check how you compute percentile.\"\n",
    "# print(\"Ok!\")"
   ]
  },
  {
   "cell_type": "code",
   "execution_count": 15,
   "metadata": {
    "colab": {
     "autoexec": {
      "startup": false,
      "wait_interval": 0
     }
    },
    "colab_type": "code",
    "id": "Dfyp5AoVs09A"
   },
   "outputs": [],
   "source": [
    "# def update_policy(elite_states,elite_actions):\n",
    "#     \"\"\"\n",
    "#     Given old policy and a list of elite states/actions from select_elites,\n",
    "#     return new updated policy where each action probability is proportional to\n",
    "    \n",
    "#     policy[s_i,a_i] ~ #[occurences of si and ai in elite states/actions]\n",
    "    \n",
    "#     Don't forget to normalize policy to get valid probabilities and handle 0/0 case.\n",
    "#     In case you never visited a state, set probabilities for all actions to 1./n_actions\n",
    "    \n",
    "#     :param elite_states: 1D list of states from elite sessions\n",
    "#     :param elite_actions: 1D list of actions from elite sessions\n",
    "    \n",
    "#     \"\"\"\n",
    "    \n",
    "#     new_policy = np.zeros([n_states,n_actions])\n",
    "    \n",
    "#     <Your code here: update probabilities for actions given elite states & actions>\n",
    "#     #Don't forget to set 1/n_actions for all actions in unvisited states.\n",
    "    \n",
    "    \n",
    "#     return new_policy"
   ]
  },
  {
   "cell_type": "code",
   "execution_count": 17,
   "metadata": {
    "colab": {
     "autoexec": {
      "startup": false,
      "wait_interval": 0
     }
    },
    "colab_type": "code",
    "id": "2ctVlyEWs09E"
   },
   "outputs": [],
   "source": [
    "\n",
    "# elite_states, elite_actions = ([1, 2, 3, 4, 2, 0, 2, 3, 1], [0, 2, 4, 3, 2, 0, 1, 3, 3])\n",
    "\n",
    "\n",
    "# new_policy = update_policy(elite_states,elite_actions)\n",
    "\n",
    "# assert np.isfinite(new_policy).all(), \"Your new policy contains NaNs or +-inf. Make sure you don't divide by zero.\"\n",
    "# assert np.all(new_policy>=0), \"Your new policy can't have negative action probabilities\"\n",
    "# assert np.allclose(new_policy.sum(axis=-1),1), \"Your new policy should be a valid probability distribution over actions\"\n",
    "# reference_answer = np.array([\n",
    "#        [ 1.        ,  0.        ,  0.        ,  0.        ,  0.        ],\n",
    "#        [ 0.5       ,  0.        ,  0.        ,  0.5       ,  0.        ],\n",
    "#        [ 0.        ,  0.33333333,  0.66666667,  0.        ,  0.        ],\n",
    "#        [ 0.        ,  0.        ,  0.        ,  0.5       ,  0.5       ]])\n",
    "# assert np.allclose(new_policy[:4,:5],reference_answer)\n",
    "# print(\"Ok!\")"
   ]
  },
  {
   "cell_type": "markdown",
   "metadata": {
    "colab_type": "text",
    "id": "Glqu5Skts09H"
   },
   "source": [
    "# Training loop\n",
    "Generate sessions, select N best and fit to those."
   ]
  },
  {
   "cell_type": "code",
   "execution_count": 31,
   "metadata": {
    "colab": {
     "autoexec": {
      "startup": false,
      "wait_interval": 0
     }
    },
    "colab_type": "code",
    "id": "D71vD8vZs09I"
   },
   "outputs": [],
   "source": [
    "from IPython.display import clear_output\n",
    "\n",
    "def show_progress(rewards_batch,log):\n",
    "    \"\"\"\n",
    "    A convenience function that displays training progress. \n",
    "    No cool math here, just charts.\n",
    "    \"\"\"\n",
    "    \n",
    "    mean_reward = np.mean(rewards_batch)\n",
    "    threshold = np.percentile(rewards_batch,percentile)\n",
    "    log.append([mean_reward,threshold])\n",
    "\n",
    "    clear_output(True)\n",
    "    print(\"mean reward = %.3f, threshold=%.3f\"%(mean_reward,threshold))\n",
    "    plt.figure(figsize=[8,4])\n",
    "    plt.subplot(1,2,1)\n",
    "    plt.plot(list(zip(*log))[0],label='Mean rewards')\n",
    "    plt.plot(list(zip(*log))[1],label='Reward thresholds')\n",
    "    plt.legend()\n",
    "    plt.grid()\n",
    "    \n",
    "    plt.subplot(1,2,2)\n",
    "    plt.hist(rewards_batch,range=[min(rewards_batch), max(rewards_batch)]);\n",
    "    plt.vlines([np.percentile(rewards_batch,percentile)],[0],[100],label=\"percentile\",color='red')\n",
    "    plt.legend()\n",
    "    plt.grid()\n",
    "\n",
    "    plt.show()\n"
   ]
  },
  {
   "cell_type": "code",
   "execution_count": 19,
   "metadata": {
    "colab": {
     "autoexec": {
      "startup": false,
      "wait_interval": 0
     }
    },
    "colab_type": "code",
    "id": "4zRzJ1hHs09L"
   },
   "outputs": [],
   "source": [
    "#reset policy just in case\n",
    "# policy = np.ones([n_states,n_actions])/n_actions "
   ]
  },
  {
   "cell_type": "code",
   "execution_count": 20,
   "metadata": {
    "colab": {
     "autoexec": {
      "startup": false,
      "wait_interval": 0
     }
    },
    "colab_type": "code",
    "id": "PWY16GGis09O"
   },
   "outputs": [],
   "source": [
    "# n_sessions = 250  #sample this many sessions\n",
    "# percentile = 50  #take this percent of session with highest rewards\n",
    "# learning_rate = 0.5  #add this thing to all counts for stability\n",
    "\n",
    "# log = []\n",
    "\n",
    "# for i in range(100):\n",
    "    \n",
    "#     %time sessions = [<generate a list of n_sessions new sessions>]\n",
    "    \n",
    "#     states_batch,actions_batch,rewards_batch = zip(*sessions)\n",
    "\n",
    "#     elite_states, elite_actions = <select elite states/actions>\n",
    "    \n",
    "#     new_policy = <compute new policy>\n",
    "    \n",
    "#     policy = learning_rate*new_policy + (1-learning_rate)*policy\n",
    "    \n",
    "#     #display results on chart\n",
    "#     show_progress(rewards_batch,log)"
   ]
  },
  {
   "cell_type": "markdown",
   "metadata": {
    "colab_type": "text",
    "id": "PKrps7JBs09R"
   },
   "source": [
    "# Digging deeper: approximate crossentropy with neural nets\n",
    "\n",
    "![img](https://casd35.wikispaces.com/file/view/digging_deeper_final.jpg/359658499/503x260/digging_deeper_final.jpg)\n",
    "\n",
    "In this section we will train a neural network policy for continuous state space game"
   ]
  },
  {
   "cell_type": "code",
   "execution_count": 21,
   "metadata": {
    "colab": {
     "autoexec": {
      "startup": false,
      "wait_interval": 0
     }
    },
    "colab_type": "code",
    "id": "Dews6Dy0s09R"
   },
   "outputs": [
    {
     "name": "stdout",
     "output_type": "stream",
     "text": [
      "\u001b[33mWARN: gym.spaces.Box autodetected dtype as <class 'numpy.float32'>. Please provide explicit dtype.\u001b[0m\n"
     ]
    },
    {
     "data": {
      "image/png": "[encoded data removed]",
      "text/plain": [
       "<matplotlib.figure.Figure at 0x1a0ecfdda0>"
      ]
     },
     "metadata": {},
     "output_type": "display_data"
    }
   ],
   "source": [
    "env = gym.make(\"MountainCar-v0\").env  #if you see \"<classname> has no attribute .env\", remove .env or update gym\n",
    "\n",
    "env.reset()\n",
    "n_actions = env.action_space.n\n",
    "\n",
    "plt.imshow(env.render(\"rgb_array\"));"
   ]
  },
  {
   "cell_type": "code",
   "execution_count": 22,
   "metadata": {
    "colab": {
     "autoexec": {
      "startup": false,
      "wait_interval": 0
     }
    },
    "colab_type": "code",
    "id": "tSr_M83Gs09U"
   },
   "outputs": [
    {
     "name": "stderr",
     "output_type": "stream",
     "text": [
      "/anaconda3/lib/python3.6/site-packages/sklearn/neural_network/multilayer_perceptron.py:564: ConvergenceWarning: Stochastic Optimizer: Maximum iterations (1) reached and the optimization hasn't converged yet.\n",
      "  % self.max_iter, ConvergenceWarning)\n"
     ]
    }
   ],
   "source": [
    "#create agent\n",
    "from sklearn.neural_network import MLPClassifier\n",
    "agent = MLPClassifier(hidden_layer_sizes=(20,20),\n",
    "                      activation='tanh',\n",
    "                      warm_start=True, #keep progress between .fit(...) calls\n",
    "                      max_iter=1 #make only 1 iteration on each .fit(...)\n",
    "                     )\n",
    "#initialize agent to the dimension of state an amount of actions\n",
    "agent.fit([env.reset()]*n_actions,range(n_actions));\n"
   ]
  },
  {
   "cell_type": "code",
   "execution_count": null,
   "metadata": {},
   "outputs": [],
   "source": []
  },
  {
   "cell_type": "code",
   "execution_count": 23,
   "metadata": {
    "colab": {
     "autoexec": {
      "startup": false,
      "wait_interval": 0
     }
    },
    "colab_type": "code",
    "id": "Gfe23uoNs09Y"
   },
   "outputs": [],
   "source": [
    "def generate_session(t_max=3000):\n",
    "    \n",
    "    states,actions = [],[]\n",
    "    total_reward = 0\n",
    "    \n",
    "    s = env.reset()\n",
    "    \n",
    "    for t in range(t_max):\n",
    "        \n",
    "        #predict array of action probabilities\n",
    "        probs = agent.predict_proba([s])[0] \n",
    "        \n",
    "        a = np.random.choice(n_actions, p=probs)\n",
    "        \n",
    "        new_s,r,done,info = env.step(a)\n",
    "        \n",
    "        #record sessions like you did before\n",
    "        states.append(s)\n",
    "        actions.append(a)\n",
    "        total_reward+=r\n",
    "        \n",
    "        s = new_s\n",
    "        if done: break\n",
    "    return states,actions,total_reward\n",
    "        "
   ]
  },
  {
   "cell_type": "code",
   "execution_count": 25,
   "metadata": {
    "colab": {
     "autoexec": {
      "startup": false,
      "wait_interval": 0
     }
    },
    "colab_type": "code",
    "id": "6nG5joXos09b"
   },
   "outputs": [
    {
     "name": "stdout",
     "output_type": "stream",
     "text": [
      "mean reward = -1446.360, threshold=-857.300\n"
     ]
    },
    {
     "data": {
      "image/png": "[encoded data removed]",
      "text/plain": [
       "<matplotlib.figure.Figure at 0x1a19cc4b70>"
      ]
     },
     "metadata": {},
     "output_type": "display_data"
    },
    {
     "name": "stdout",
     "output_type": "stream",
     "text": [
      "You Win\n"
     ]
    }
   ],
   "source": [
    "n_sessions = 100\n",
    "percentile = 90\n",
    "log = []\n",
    "\n",
    "for i in range(100):\n",
    "    #generate new sessions\n",
    "    \n",
    "    sessions = [generate_session() for _ in range(n_sessions)]\n",
    "\n",
    "    states_batch,actions_batch,rewards_batch = map(np.array,zip(*sessions))\n",
    "\n",
    "    elite_states, elite_actions = select_elites(states_batch, actions_batch, \n",
    "                                                rewards_batch, percentile=percentile)\n",
    "    agent.fit(elite_states, elite_actions)\n",
    "\n",
    "    show_progress(rewards_batch,log,reward_range=[-3000,np.max(rewards_batch)])\n",
    "    \n",
    "    if np.mean(rewards_batch) > -1500:\n",
    "        print(\"You Win\")\n",
    "        break"
   ]
  },
  {
   "cell_type": "markdown",
   "metadata": {
    "colab_type": "text",
    "id": "_zJNkf3Bs09e"
   },
   "source": [
    "# Results"
   ]
  },
  {
   "cell_type": "code",
   "execution_count": null,
   "metadata": {
    "colab": {
     "autoexec": {
      "startup": false,
      "wait_interval": 0
     }
    },
    "colab_type": "code",
    "id": "oMUxTPhXt2m9"
   },
   "outputs": [],
   "source": [
    "# backup model\n",
    "\n",
    "import pickle \n",
    "with open('model.pkl', 'wb') as model_file:\n",
    "    pickle.dump(agent, model_file)\n",
    "\n",
    "import pickle \n",
    "with open('model.pkl', 'rb') as model_file:\n",
    "    agent = pickle.load(model_file)"
   ]
  },
  {
   "cell_type": "code",
   "execution_count": null,
   "metadata": {
    "colab": {
     "autoexec": {
      "startup": false,
      "wait_interval": 0
     }
    },
    "colab_type": "code",
    "id": "sN6s2J_AuB79"
   },
   "outputs": [],
   "source": [
    "def download_last_video():\n",
    "    import os\n",
    "    import time\n",
    "    from google.colab import files\n",
    "\n",
    "    dirname = 'videos'\n",
    "    files_sorted = [x[0] for x in sorted([(fn, os.stat(dirname + '/' + fn)) \n",
    "                                   for fn in os.listdir(dirname)], \n",
    "                                  key = lambda x: -x[1].st_ctime)]\n",
    "    video_found = False\n",
    "    for file in files_sorted:\n",
    "        if file.endswith(\".mp4\"):\n",
    "            files.download(dirname + '/' + file)\n",
    "            video_found = True\n",
    "            break\n",
    "    if not video_found:\n",
    "        print('Video not found:', files_sorted)\n",
    "            \n",
    "import gym.wrappers\n",
    "env = gym.wrappers.Monitor(gym.make(\"CartPole-v0\"),directory=\"videos\",force=True)\n",
    "sessions = [generate_session() for _ in range(10)]\n",
    "env.close()\n",
    "download_last_video()"
   ]
  },
  {
   "cell_type": "code",
   "execution_count": null,
   "metadata": {},
   "outputs": [],
   "source": [
    "sessions = [generate_session() for _ in range(10)]"
   ]
  },
  {
   "cell_type": "code",
   "execution_count": null,
   "metadata": {},
   "outputs": [],
   "source": [
    "s = env.reset()\n",
    "action = np.argmax(agent.predict_proba([s]))\n",
    "\n",
    "while True:\n",
    "    observation, reward, done,_ = env.step(action)\n",
    "    action = np.argmax(agent.predict_proba([observation]))\n",
    "    print (action, observation)\n",
    "    env.render()\n",
    "    if done:\n",
    "        break"
   ]
  },
  {
   "cell_type": "code",
   "execution_count": 29,
   "metadata": {},
   "outputs": [],
   "source": [
    "env.reset()\n",
    "total_reward = 0\n",
    "t_max=3000\n",
    "s = env.reset()\n",
    "\n",
    "for t in range(t_max):\n",
    "        env.render()\n",
    "        probs = agent.predict_proba([s])[0] \n",
    "        \n",
    "        a = np.random.choice(n_actions, p=probs)\n",
    "        \n",
    "        new_s,r,done,info = env.step(a)\n",
    "        \n",
    "        total_reward+=r\n",
    "        \n",
    "        s = new_s\n",
    "        if done: break"
   ]
  },
  {
   "cell_type": "code",
   "execution_count": null,
   "metadata": {},
   "outputs": [],
   "source": [
    "observation, reward, done,_ = env.step(1)\n",
    "observation, reward, done"
   ]
  },
  {
   "cell_type": "markdown",
   "metadata": {
    "colab_type": "text",
    "id": "duATglRcs09k"
   },
   "source": [
    "# Homework part I\n",
    "\n",
    "### Tabular crossentropy method\n",
    "\n",
    "You may have noticed that the taxi problem quickly converges from -100 to a near-optimal score and then descends back into -50/-100. This is in part because the environment has some innate randomness. Namely, the starting points of passenger/driver change from episode to episode.\n",
    "\n",
    "### Tasks\n",
    "- __1.1__ (1 pts) Find out how the algorithm performance changes if you change different percentile and different n_samples.\n",
    "- __1.2__ (2 pts) Tune the algorithm to end up with positive average score.\n",
    "\n",
    "It's okay to modify the existing code.\n"
   ]
  },
  {
   "cell_type": "markdown",
   "metadata": {
    "colab_type": "text",
    "id": "wyqsvYjxs09l"
   },
   "source": [
    "```<Describe what you did here.  Preferably with plot/report to support it.>```"
   ]
  },
  {
   "cell_type": "markdown",
   "metadata": {
    "colab_type": "text",
    "id": "1SW9InWhs09m"
   },
   "source": [
    "# Homework part II\n",
    "\n",
    "### Deep crossentropy method\n",
    "\n",
    "By this moment you should have got enough score on [CartPole-v0](https://gym.openai.com/envs/CartPole-v0) to consider it solved (see the link). It's time to upload the result and get to something harder.\n",
    "\n",
    "* if you have any trouble with CartPole-v0 and feel stuck, feel free to ask us or your peers for help.\n",
    "\n",
    "### Tasks\n",
    "\n",
    "* __2.1__ (3 pts) Pick one of environments: MountainCar-v0 or LunarLander-v2.\n",
    "  * For MountainCar, get average reward of __at least -150__\n",
    "  * For LunarLander, get average reward of __at least +50__\n",
    "  * For any environment, upload it to gym and post url in your anytask form.\n",
    "\n",
    "See the tips section below, it's kinda important.\n",
    "__Note:__ If your agent is below the target score, you'll still get most of the points depending on the result, so don't be afraid to submit it.\n",
    "  \n",
    "  \n",
    "* __2.2__ (bonus: 4++ pt) Devise a way to speed up training at least 2x against the default version\n",
    "  * Obvious improvement: use [joblib](https://www.google.com/search?client=ubuntu&channel=fs&q=joblib&ie=utf-8&oe=utf-8)\n",
    "  * Try re-using samples from 3-5 last iterations when computing threshold and training\n",
    "  * Experiment with amount of training iterations and learning rate of the neural network (see params)\n",
    "  * __Please list what you did in anytask submission form__\n",
    "  \n",
    "  \n",
    "### Tips\n",
    "* Gym page: [mountaincar](https://gym.openai.com/envs/MountainCar-v0), [lunarlander](https://gym.openai.com/envs/LunarLander-v2)\n",
    "* Sessions for MountainCar may last for 10k+ ticks. Make sure ```t_max``` param is at least 10k.\n",
    " * Also it may be a good idea to cut rewards via \">\" and not \">=\". If 90% of your sessions get reward of -10k and 20% are better, than if you use percentile 20% as threshold, R >= threshold __fails cut off bad sessions__ whule R > threshold works alright.\n",
    "* _issue with gym_: Some versions of gym limit game time by 200 ticks. This will prevent cem training in most cases. Make sure your agent is able to play for the specified __t_max__, and if it isn't, try `env = gym.make(\"MountainCar-v0\").env` or otherwise get rid of TimeLimit wrapper.\n",
    "* If you use old _swig_ lib for LunarLander-v2, you may get an error. See this [issue](https://github.com/openai/gym/issues/100) for solution.\n",
    "* If it won't train it's a good idea to plot reward distribution and record sessions: they may give you some clue. If they don't, call course staff :)\n",
    "* 20-neuron network is probably not enough, feel free to experiment.\n",
    "* __Please upload the results to openai gym and send links to all submissions in the e-mail__\n",
    "\n",
    "### Bonus tasks\n",
    "\n",
    "* __2.3 bonus__ Try to find a network architecture and training params that solve __both__ environments above (_Points depend on implementation. If you attempted this task, please mention it in anytask submission._)\n",
    "\n",
    "* __2.4 bonus__ Solve continuous action space task with `MLPRegressor` or similar.\n",
    "  * [MountainCarContinuous-v0](https://gym.openai.com/envs/MountainCarContinuous-v0), [LunarLanderContinuous-v2](https://gym.openai.com/envs/LunarLanderContinuous-v2) \n",
    "  * 4 points for solving. Slightly less for getting some results below solution threshold. Note that discrete and continuous environments may have slightly different rules aside from action spaces.\n",
    "\n",
    "\n",
    "If you're still feeling unchallenged, consider the project (see other notebook in this folder)."
   ]
  },
  {
   "cell_type": "code",
   "execution_count": null,
   "metadata": {
    "colab": {
     "autoexec": {
      "startup": false,
      "wait_interval": 0
     }
    },
    "colab_type": "code",
    "id": "C4lwrDUVs09n"
   },
   "outputs": [],
   "source": []
  }
 ],
 "metadata": {
  "accelerator": "GPU",
  "colab": {
   "collapsed_sections": [],
   "default_view": {},
   "name": "crossentropy_method.ipynb",
   "provenance": [],
   "version": "0.3.2",
   "views": {}
  },
  "kernelspec": {
   "display_name": "Python 3",
   "language": "python",
   "name": "python3"
  },
  "language_info": {
   "codemirror_mode": {
    "name": "ipython",
    "version": 3
   },
   "file_extension": ".py",
   "mimetype": "text/x-python",
   "name": "python",
   "nbconvert_exporter": "python",
   "pygments_lexer": "ipython3",
   "version": "3.6.4"
  }
 },
 "nbformat": 4,
 "nbformat_minor": 1
}
