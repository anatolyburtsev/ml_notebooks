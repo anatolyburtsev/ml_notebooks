{
 "cells": [
  {
   "cell_type": "markdown",
   "metadata": {
    "colab_type": "text",
    "id": "sJXefuibV05O"
   },
   "source": [
    "<center>![](https://cdn-images-1.medium.com/max/600/1*2kpd1gySE1aKCL6MS4YvPg.jpeg)"
   ]
  },
  {
   "cell_type": "code",
   "execution_count": 5,
   "metadata": {
    "colab": {
     "autoexec": {
      "startup": false,
      "wait_interval": 0
     }
    },
    "colab_type": "code",
    "id": "UN4TGTr6Vkne"
   },
   "outputs": [],
   "source": [
    "# %load_ext autoreload\n",
    "# %autoreload 2\n",
    "\n",
    "# !apt-get update \n",
    "# !apt-get install -y cmake swig python-opengl ffmpeg xvfb\n",
    "\n",
    "# !pip install joblib six\n",
    "# !pip install 'gym[all]'\n",
    "# !pip install pyglet==1.2.4\n",
    "# !pip install pyvirtualdisplay\n",
    "# !pip install --no-cache-dir -I pillow"
   ]
  },
  {
   "cell_type": "code",
   "execution_count": 6,
   "metadata": {
    "colab": {
     "autoexec": {
      "startup": false,
      "wait_interval": 0
     },
     "base_uri": "https://localhost:8080/",
     "height": 54
    },
    "colab_type": "code",
    "executionInfo": {
     "elapsed": 1999,
     "status": "ok",
     "timestamp": 1524299347079,
     "user": {
      "displayName": "Igor Slinko",
      "photoUrl": "//lh4.googleusercontent.com/-KYuH_A0wMqY/AAAAAAAAAAI/AAAAAAAAADg/6WS_EWC7Be8/s50-c-k-no/photo.jpg",
      "userId": "114563565055030901209"
     },
     "user_tz": -180
    },
    "id": "83mepwUNXJdr",
    "outputId": "1e192c4c-49f0-4ab6-be99-5302456c76fa"
   },
   "outputs": [],
   "source": [
    "# # создаем фиктивный дисплей:\n",
    "# !pkill -9 Xvfb\n",
    "# from pyvirtualdisplay import Display\n",
    "# display = Display(visible=0, size=(1400, 900))\n",
    "# display.start()"
   ]
  },
  {
   "cell_type": "code",
   "execution_count": 8,
   "metadata": {
    "colab": {
     "autoexec": {
      "startup": false,
      "wait_interval": 0
     }
    },
    "colab_type": "code",
    "id": "9nhNIXo5Yh_b"
   },
   "outputs": [],
   "source": [
    "import matplotlib.pyplot as plt\n",
    "import gym\n",
    "import numpy as np\n",
    "import scipy\n",
    "import matplotlib.animation as animation \n",
    "# from google.colab import files\n",
    "\n",
    "def make_video(frames):\n",
    "    # Cоздаем окно, в которое будем писать кадры:\n",
    "    fig = plt.figure()\n",
    "    plt.axis('off')\n",
    "    im = plt.imshow([[0]])\n",
    "\n",
    "    # Конвертируем кадры в видео:\n",
    "    video = animation.FuncAnimation(fig, im.set_data, frames)\n",
    "    video.save('demo.mp4', writer=animation.FFMpegWriter(), dpi=100)\n",
    "\n",
    "    # Cкачиваем файлы с colab:\n",
    "    files.download('demo.mp4')"
   ]
  },
  {
   "cell_type": "code",
   "execution_count": 9,
   "metadata": {
    "colab": {
     "autoexec": {
      "startup": false,
      "wait_interval": 0
     },
     "base_uri": "https://localhost:8080/",
     "height": 71
    },
    "colab_type": "code",
    "executionInfo": {
     "elapsed": 527,
     "status": "ok",
     "timestamp": 1524299349994,
     "user": {
      "displayName": "Igor Slinko",
      "photoUrl": "//lh4.googleusercontent.com/-KYuH_A0wMqY/AAAAAAAAAAI/AAAAAAAAADg/6WS_EWC7Be8/s50-c-k-no/photo.jpg",
      "userId": "114563565055030901209"
     },
     "user_tz": -180
    },
    "id": "Fahuc1sxkNrG",
    "outputId": "a7bf780b-2bf4-4f96-d4ab-db505cb36251"
   },
   "outputs": [
    {
     "name": "stdout",
     "output_type": "stream",
     "text": [
      "\u001b[33mWARN: gym.spaces.Box autodetected dtype as <class 'numpy.float32'>. Please provide explicit dtype.\u001b[0m\n"
     ]
    },
    {
     "data": {
      "text/plain": [
       "array([-0.56391219,  0.        ])"
      ]
     },
     "execution_count": 9,
     "metadata": {},
     "output_type": "execute_result"
    }
   ],
   "source": [
    "# Будем играть в MountainCar-v0 https://github.com/openai/gym/wiki/MountainCar-v0\n",
    "env = gym.make('MountainCar-v0').env\n",
    "env.reset()"
   ]
  },
  {
   "cell_type": "code",
   "execution_count": 10,
   "metadata": {
    "colab": {
     "autoexec": {
      "startup": false,
      "wait_interval": 0
     }
    },
    "colab_type": "code",
    "id": "_LE3MMFFkXf9"
   },
   "outputs": [],
   "source": [
    "# Создадим агента\n",
    "\n",
    "class Agent:\n",
    "    def __init__(self, params=None):\n",
    "        if params is None:\n",
    "            self.params = np.random.normal(\n",
    "                0, 1 / (env.observation_space.high - env.observation_space.low)) * 10\n",
    "        else:\n",
    "            self.params = np.array(params)\n",
    "    def get_action(self, observarion):\n",
    "        proba = scipy.special.expit(np.sum(observarion * self.params))\n",
    "        if proba < 0.7:\n",
    "            return 0\n",
    "        if proba > 0.3:\n",
    "            return 2\n",
    "        return 1\n",
    "    def mutate(self, mutation_rate):\n",
    "        if np.random.normal() < mutation_rate:\n",
    "            shift = np.random.normal(\n",
    "                0, 1 / (env.observation_space.high - env.observation_space.low)) / 10\n",
    "            self.params += shift\n",
    "    \n",
    "def crossing_over(agent_left, agent_right):\n",
    "    new_params = []\n",
    "    for param_index in range(env.observation_space.shape[0]):\n",
    "        new_params.append(\n",
    "            np.random.choice((agent_left.params[param_index], \n",
    "                              agent_right.params[param_index])))\n",
    "    return Agent(new_params)"
   ]
  },
  {
   "cell_type": "code",
   "execution_count": 11,
   "metadata": {
    "colab": {
     "autoexec": {
      "startup": false,
      "wait_interval": 0
     },
     "base_uri": "https://localhost:8080/",
     "height": 3489
    },
    "colab_type": "code",
    "executionInfo": {
     "elapsed": 143224,
     "status": "ok",
     "timestamp": 1524299632622,
     "user": {
      "displayName": "Igor Slinko",
      "photoUrl": "//lh4.googleusercontent.com/-KYuH_A0wMqY/AAAAAAAAAAI/AAAAAAAAADg/6WS_EWC7Be8/s50-c-k-no/photo.jpg",
      "userId": "114563565055030901209"
     },
     "user_tz": -180
    },
    "id": "4DNiwHi8XJ6W",
    "outputId": "f5c2ba92-1c66-4c33-fa41-9522d1ce2cd7"
   },
   "outputs": [
    {
     "ename": "AttributeError",
     "evalue": "module 'scipy' has no attribute 'special'",
     "output_type": "error",
     "traceback": [
      "\u001b[0;31m---------------------------------------------------------------------------\u001b[0m",
      "\u001b[0;31mAttributeError\u001b[0m                            Traceback (most recent call last)",
      "\u001b[0;32m<ipython-input-11-4e9605cf9809>\u001b[0m in \u001b[0;36m<module>\u001b[0;34m()\u001b[0m\n\u001b[1;32m     14\u001b[0m             \u001b[0magent_reward\u001b[0m \u001b[0;34m=\u001b[0m \u001b[0;36m0\u001b[0m\u001b[0;34m\u001b[0m\u001b[0m\n\u001b[1;32m     15\u001b[0m             \u001b[0;32mfor\u001b[0m \u001b[0mt\u001b[0m \u001b[0;32min\u001b[0m \u001b[0mrange\u001b[0m\u001b[0;34m(\u001b[0m\u001b[0;36m200\u001b[0m\u001b[0;34m)\u001b[0m\u001b[0;34m:\u001b[0m           \u001b[0;31m# делаем макс. 200 шагов внутри эпизода\u001b[0m\u001b[0;34m\u001b[0m\u001b[0m\n\u001b[0;32m---> 16\u001b[0;31m                 \u001b[0maction\u001b[0m \u001b[0;34m=\u001b[0m \u001b[0magent\u001b[0m\u001b[0;34m.\u001b[0m\u001b[0mget_action\u001b[0m\u001b[0;34m(\u001b[0m\u001b[0mobservation\u001b[0m\u001b[0;34m)\u001b[0m\u001b[0;34m\u001b[0m\u001b[0m\n\u001b[0m\u001b[1;32m     17\u001b[0m                 \u001b[0mobservation\u001b[0m\u001b[0;34m,\u001b[0m \u001b[0mreward\u001b[0m\u001b[0;34m,\u001b[0m \u001b[0mdone\u001b[0m\u001b[0;34m,\u001b[0m \u001b[0minfo\u001b[0m \u001b[0;34m=\u001b[0m \u001b[0menv\u001b[0m\u001b[0;34m.\u001b[0m\u001b[0mstep\u001b[0m\u001b[0;34m(\u001b[0m\u001b[0maction\u001b[0m\u001b[0;34m)\u001b[0m   \u001b[0;31m# совершаем шаг\u001b[0m\u001b[0;34m\u001b[0m\u001b[0m\n\u001b[1;32m     18\u001b[0m                 \u001b[0magent_reward\u001b[0m \u001b[0;34m+=\u001b[0m \u001b[0mreward\u001b[0m\u001b[0;34m\u001b[0m\u001b[0m\n",
      "\u001b[0;32m<ipython-input-10-5046db3d29a8>\u001b[0m in \u001b[0;36mget_action\u001b[0;34m(self, observarion)\u001b[0m\n\u001b[1;32m      9\u001b[0m             \u001b[0mself\u001b[0m\u001b[0;34m.\u001b[0m\u001b[0mparams\u001b[0m \u001b[0;34m=\u001b[0m \u001b[0mnp\u001b[0m\u001b[0;34m.\u001b[0m\u001b[0marray\u001b[0m\u001b[0;34m(\u001b[0m\u001b[0mparams\u001b[0m\u001b[0;34m)\u001b[0m\u001b[0;34m\u001b[0m\u001b[0m\n\u001b[1;32m     10\u001b[0m     \u001b[0;32mdef\u001b[0m \u001b[0mget_action\u001b[0m\u001b[0;34m(\u001b[0m\u001b[0mself\u001b[0m\u001b[0;34m,\u001b[0m \u001b[0mobservarion\u001b[0m\u001b[0;34m)\u001b[0m\u001b[0;34m:\u001b[0m\u001b[0;34m\u001b[0m\u001b[0m\n\u001b[0;32m---> 11\u001b[0;31m         \u001b[0mproba\u001b[0m \u001b[0;34m=\u001b[0m \u001b[0mscipy\u001b[0m\u001b[0;34m.\u001b[0m\u001b[0mspecial\u001b[0m\u001b[0;34m.\u001b[0m\u001b[0mexpit\u001b[0m\u001b[0;34m(\u001b[0m\u001b[0mnp\u001b[0m\u001b[0;34m.\u001b[0m\u001b[0msum\u001b[0m\u001b[0;34m(\u001b[0m\u001b[0mobservarion\u001b[0m \u001b[0;34m*\u001b[0m \u001b[0mself\u001b[0m\u001b[0;34m.\u001b[0m\u001b[0mparams\u001b[0m\u001b[0;34m)\u001b[0m\u001b[0;34m)\u001b[0m\u001b[0;34m\u001b[0m\u001b[0m\n\u001b[0m\u001b[1;32m     12\u001b[0m         \u001b[0;32mif\u001b[0m \u001b[0mproba\u001b[0m \u001b[0;34m<\u001b[0m \u001b[0;36m0.7\u001b[0m\u001b[0;34m:\u001b[0m\u001b[0;34m\u001b[0m\u001b[0m\n\u001b[1;32m     13\u001b[0m             \u001b[0;32mreturn\u001b[0m \u001b[0;36m0\u001b[0m\u001b[0;34m\u001b[0m\u001b[0m\n",
      "\u001b[0;31mAttributeError\u001b[0m: module 'scipy' has no attribute 'special'"
     ]
    }
   ],
   "source": [
    "# Начнем эволюцию!\n",
    "\n",
    "agents_count = 1000\n",
    "agents_pool = [Agent() for _ in range(agents_count)] # создаем колонию из 1000 агентов (особей)\n",
    "# epoch_mean_rewards = []\n",
    "\n",
    "\n",
    "for epoch_i in range(2):                  # сколько эпох (поколений) пройдет\n",
    "    agents_rewards = []\n",
    "    for agent_i, agent in enumerate(agents_pool):\n",
    "        agent_rewards = []\n",
    "        for i_episode in range(5):         # играем несколько эпизодов\n",
    "            observation = env.reset()      # сбрасываем env – это нужно делать перед каждой игрой\n",
    "            agent_reward = 0 \n",
    "            for t in range(200):           # делаем макс. 200 шагов внутри эпизода\n",
    "                action = agent.get_action(observation)\n",
    "                observation, reward, done, info = env.step(action)   # совершаем шаг\n",
    "                agent_reward += reward\n",
    "                if done:                   # если игра закончилась – перестаем совершать шаги\n",
    "                    break\n",
    "            agent_rewards.append(agent_reward)\n",
    "        agents_rewards.append(np.mean(agent_rewards))\n",
    "    print('Epoch:', epoch_i, '| Mean reward:', np.mean(agents_rewards))\n",
    "    plt.hist(agents_rewards)\n",
    "    plt.show()\n",
    "    best_agent_idexes = np.array(agents_rewards).argsort()[-30:][::-1]  # отбираем лучших агентов\n",
    "    \n",
    "    new_agents_pool = []\n",
    "    \n",
    "    for _ in range(agents_count):\n",
    "        first_agent = agents_pool[np.random.choice(best_agent_idexes)]\n",
    "        second_agent = agents_pool[np.random.choice(best_agent_idexes)]\n",
    "        new_agent = crossing_over(first_agent, second_agent)            # скрещиваем \n",
    "        new_agent.mutate(mutation_rate=0.5)\n",
    "        new_agents_pool.append(new_agent)\n",
    "        \n",
    "    agents_pool = new_agents_pool"
   ]
  },
  {
   "cell_type": "code",
   "execution_count": null,
   "metadata": {
    "colab": {
     "autoexec": {
      "startup": false,
      "wait_interval": 0
     },
     "base_uri": "https://localhost:8080/",
     "height": 34
    },
    "colab_type": "code",
    "executionInfo": {
     "elapsed": 606,
     "status": "ok",
     "timestamp": 1524299659226,
     "user": {
      "displayName": "Igor Slinko",
      "photoUrl": "//lh4.googleusercontent.com/-KYuH_A0wMqY/AAAAAAAAAAI/AAAAAAAAADg/6WS_EWC7Be8/s50-c-k-no/photo.jpg",
      "userId": "114563565055030901209"
     },
     "user_tz": -180
    },
    "id": "aeCR4DYT9-Cn",
    "outputId": "0d2bdf96-5cbd-4532-982c-729406b71dca"
   },
   "outputs": [],
   "source": [
    "# Выбираем лучшую особь\n",
    "\n",
    "best_agent_i = np.array(agents_rewards).argmax()\n",
    "agents_rewards[best_agent_i]"
   ]
  },
  {
   "cell_type": "code",
   "execution_count": null,
   "metadata": {
    "colab": {
     "autoexec": {
      "startup": false,
      "wait_interval": 0
     }
    },
    "colab_type": "code",
    "id": "xTilplRNV39f"
   },
   "outputs": [],
   "source": [
    "def download_last_video():\n",
    "    import os\n",
    "    import time\n",
    "    from google.colab import files\n",
    "\n",
    "    dirname = 'videos'\n",
    "    files_sorted = [x[0] for x in sorted([(fn, os.stat(dirname + '/' + fn)) \n",
    "                                   for fn in os.listdir(dirname)], \n",
    "                                  key = lambda x: -x[1].st_ctime)]\n",
    "    video_found = False\n",
    "    for file in files_sorted:\n",
    "        if file.endswith(\".mp4\"):\n",
    "            files.download(dirname + '/' + file)\n",
    "            video_found = True\n",
    "            break\n",
    "    if not video_found:\n",
    "        print('Video not found:', files_sorted)"
   ]
  },
  {
   "cell_type": "code",
   "execution_count": null,
   "metadata": {
    "colab": {
     "autoexec": {
      "startup": false,
      "wait_interval": 0
     },
     "base_uri": "https://localhost:8080/",
     "height": 54
    },
    "colab_type": "code",
    "executionInfo": {
     "elapsed": 7657,
     "status": "ok",
     "timestamp": 1524299804839,
     "user": {
      "displayName": "Igor Slinko",
      "photoUrl": "//lh4.googleusercontent.com/-KYuH_A0wMqY/AAAAAAAAAAI/AAAAAAAAADg/6WS_EWC7Be8/s50-c-k-no/photo.jpg",
      "userId": "114563565055030901209"
     },
     "user_tz": -180
    },
    "id": "iOhyz5j-zaiX",
    "outputId": "6abd535f-36dd-451f-a354-f415bc12da82"
   },
   "outputs": [],
   "source": [
    "# Играем несколько игр и записываем\n",
    "\n",
    "import gym.wrappers\n",
    "env = gym.wrappers.Monitor(gym.make('MountainCar-v0'),directory=\"videos\",force=True)\n",
    "\n",
    "for i_episode in range(30):\n",
    "    observation = env.reset()\n",
    "    for t in range(200):\n",
    "        action = agents_pool[best_agent_i].get_action(observation)\n",
    "        observation, reward, done, info = env.step(action)\n",
    "        agent_reward += reward\n",
    "        if done:                   # если игра закончилась – перестаем совершать шаги\n",
    "            break\n",
    "    \n",
    "env.close()\n",
    "download_last_video()"
   ]
  },
  {
   "cell_type": "code",
   "execution_count": null,
   "metadata": {
    "colab": {
     "autoexec": {
      "startup": false,
      "wait_interval": 0
     },
     "base_uri": "https://localhost:8080/",
     "height": 364
    },
    "colab_type": "code",
    "executionInfo": {
     "elapsed": 7885,
     "status": "ok",
     "timestamp": 1523965465670,
     "user": {
      "displayName": "Igor Slinko",
      "photoUrl": "//lh4.googleusercontent.com/-KYuH_A0wMqY/AAAAAAAAAAI/AAAAAAAAADg/6WS_EWC7Be8/s50-c-k-no/photo.jpg",
      "userId": "114563565055030901209"
     },
     "user_tz": -180
    },
    "id": "4Y8Hd7ASmp_8",
    "outputId": "463dc131-ab35-4638-bf3f-8c4905396fca"
   },
   "outputs": [],
   "source": [
    "frames = []\n",
    "# for i_episode in range(10):\n",
    "observation = env.reset()\n",
    "agent_reward = 0 \n",
    "for t in range(200):\n",
    "    frames.append(env.render(mode='rgb_array'))\n",
    "    action = agents_pool[4].get_action(observation)\n",
    "    observation, reward, done, info = env.step(action)\n",
    "    agent_reward += reward \n",
    "    if done:                   # если игра закончилась – перестаем совершать шаги\n",
    "        print('Done')\n",
    "        break\n",
    "        \n",
    "print(agent_reward)\n",
    "            \n",
    "make_video(frames)"
   ]
  },
  {
   "cell_type": "code",
   "execution_count": null,
   "metadata": {
    "colab": {
     "autoexec": {
      "startup": false,
      "wait_interval": 0
     }
    },
    "colab_type": "code",
    "id": "6NG6g5lJJfcy"
   },
   "outputs": [],
   "source": []
  }
 ],
 "metadata": {
  "colab": {
   "collapsed_sections": [],
   "default_view": {},
   "name": "genetic_algorythm.ipynb",
   "provenance": [],
   "version": "0.3.2",
   "views": {}
  },
  "kernelspec": {
   "display_name": "Python 3",
   "language": "python",
   "name": "python3"
  },
  "language_info": {
   "codemirror_mode": {
    "name": "ipython",
    "version": 3
   },
   "file_extension": ".py",
   "mimetype": "text/x-python",
   "name": "python",
   "nbconvert_exporter": "python",
   "pygments_lexer": "ipython3",
   "version": "3.6.4"
  }
 },
 "nbformat": 4,
 "nbformat_minor": 1
}
