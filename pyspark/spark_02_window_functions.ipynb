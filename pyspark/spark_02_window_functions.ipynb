{
 "cells": [
  {
   "cell_type": "code",
   "execution_count": 10,
   "metadata": {},
   "outputs": [],
   "source": [
    "from pyspark import SparkContext, SparkConf\n",
    "from pyspark.sql import SparkSession\n",
    "from pyspark.sql.window import Window\n",
    "import pyspark.sql.functions as F"
   ]
  },
  {
   "cell_type": "code",
   "execution_count": 3,
   "metadata": {},
   "outputs": [],
   "source": [
    "spark = SparkSession(SparkContext(appName=\"myAppName\"))"
   ]
  },
  {
   "cell_type": "code",
   "execution_count": 21,
   "metadata": {},
   "outputs": [],
   "source": [
    "data = (\n",
    "  (\"iPhone X\",       \"cell phone\", 6000),\n",
    "  (\"iPad\",     \"tablet\",     1500),\n",
    "  (\"iPad Pro 2\",       \"tablet\",     5500),\n",
    "  (\"iPhone 8\", \"cell phone\", 5000),\n",
    "  (\"Galaxy X\",  \"cell phone\", 6000),\n",
    "  (\"Xiaomi Tablet\",        \"tablet\",     2500),\n",
    "  (\"iPhone 7\",   \"cell phone\", 3000),\n",
    "  (\"Galaxy 7\",   \"cell phone\", 3000),\n",
    "  (\"Asus Tablet\",        \"tablet\",     4500),\n",
    "  (\"iPad Pro X\",       \"tablet\",     6500))"
   ]
  },
  {
   "cell_type": "code",
   "execution_count": 22,
   "metadata": {},
   "outputs": [
    {
     "name": "stdout",
     "output_type": "stream",
     "text": [
      "+-------------+----------+-------+\n",
      "|      product|  category|revenue|\n",
      "+-------------+----------+-------+\n",
      "|     iPhone X|cell phone|   6000|\n",
      "|         iPad|    tablet|   1500|\n",
      "|   iPad Pro 2|    tablet|   5500|\n",
      "|     iPhone 8|cell phone|   5000|\n",
      "|     Galaxy X|cell phone|   6000|\n",
      "|Xiaomi Tablet|    tablet|   2500|\n",
      "|     iPhone 7|cell phone|   3000|\n",
      "|     Galaxy 7|cell phone|   3000|\n",
      "|  Asus Tablet|    tablet|   4500|\n",
      "|   iPad Pro X|    tablet|   6500|\n",
      "+-------------+----------+-------+\n",
      "\n"
     ]
    }
   ],
   "source": [
    "df = spark.createDataFrame(data, [\"product\", \"category\", \"revenue\"])\n",
    "df.cache().show()"
   ]
  },
  {
   "cell_type": "markdown",
   "metadata": {},
   "source": [
    "We want to answer two questions:\n",
    "\n",
    "1. What are the best-selling and the second best-selling products in every category?\n",
    "2. What is the difference between the revenue of each product and the revenue of the best-selling product in the same category of that product?"
   ]
  },
  {
   "cell_type": "code",
   "execution_count": 23,
   "metadata": {},
   "outputs": [],
   "source": [
    "# question 1\n",
    "w_sort_rev = Window.partitionBy(\"category\").orderBy(F.col(\"revenue\").desc())"
   ]
  },
  {
   "cell_type": "code",
   "execution_count": 24,
   "metadata": {},
   "outputs": [
    {
     "name": "stdout",
     "output_type": "stream",
     "text": [
      "+-------------+----------+-------+----------+\n",
      "|      product|  category|revenue|row_number|\n",
      "+-------------+----------+-------+----------+\n",
      "|   iPad Pro X|    tablet|   6500|         1|\n",
      "|   iPad Pro 2|    tablet|   5500|         2|\n",
      "|  Asus Tablet|    tablet|   4500|         3|\n",
      "|Xiaomi Tablet|    tablet|   2500|         4|\n",
      "|         iPad|    tablet|   1500|         5|\n",
      "|     iPhone X|cell phone|   6000|         1|\n",
      "|     Galaxy X|cell phone|   6000|         2|\n",
      "|     iPhone 8|cell phone|   5000|         3|\n",
      "|     iPhone 7|cell phone|   3000|         4|\n",
      "|     Galaxy 7|cell phone|   3000|         5|\n",
      "+-------------+----------+-------+----------+\n",
      "\n"
     ]
    }
   ],
   "source": [
    "(df\n",
    " .withColumn(\"row_number\", F.row_number().over(w_sort_rev))\n",
    ").show(10)"
   ]
  },
  {
   "cell_type": "code",
   "execution_count": 25,
   "metadata": {},
   "outputs": [
    {
     "name": "stdout",
     "output_type": "stream",
     "text": [
      "+----------+----------+-------+\n",
      "|   product|  category|revenue|\n",
      "+----------+----------+-------+\n",
      "|iPad Pro X|    tablet|   6500|\n",
      "|iPad Pro 2|    tablet|   5500|\n",
      "|  iPhone X|cell phone|   6000|\n",
      "|  Galaxy X|cell phone|   6000|\n",
      "+----------+----------+-------+\n",
      "\n"
     ]
    }
   ],
   "source": [
    "(df\n",
    " .withColumn(\"row_number\", F.row_number().over(w_sort_rev))\n",
    " .where(F.col(\"row_number\") <= 2)\n",
    " .drop(\"row_number\")\n",
    ").show(10)"
   ]
  },
  {
   "cell_type": "code",
   "execution_count": 30,
   "metadata": {},
   "outputs": [
    {
     "name": "stdout",
     "output_type": "stream",
     "text": [
      "+-------------+----------+-------+------------+\n",
      "|      product|  category|revenue|next_revenue|\n",
      "+-------------+----------+-------+------------+\n",
      "|   iPad Pro X|    tablet|   6500|        5500|\n",
      "|   iPad Pro 2|    tablet|   5500|        4500|\n",
      "|  Asus Tablet|    tablet|   4500|        2500|\n",
      "|Xiaomi Tablet|    tablet|   2500|        1500|\n",
      "|         iPad|    tablet|   1500|        null|\n",
      "|     iPhone X|cell phone|   6000|        6000|\n",
      "|     Galaxy X|cell phone|   6000|        5000|\n",
      "|     iPhone 8|cell phone|   5000|        3000|\n",
      "|     iPhone 7|cell phone|   3000|        3000|\n",
      "|     Galaxy 7|cell phone|   3000|        null|\n",
      "+-------------+----------+-------+------------+\n",
      "\n"
     ]
    }
   ],
   "source": [
    "# question 2\n",
    "(df\n",
    ".withColumn(\"next_revenue\", F.lag(\"revenue\", -1).over(w_sort_rev))\n",
    ").show(100)"
   ]
  },
  {
   "cell_type": "code",
   "execution_count": 31,
   "metadata": {},
   "outputs": [
    {
     "name": "stdout",
     "output_type": "stream",
     "text": [
      "+-------------+----------+-------+------------+------------+\n",
      "|      product|  category|revenue|next_revenue|revenue_diff|\n",
      "+-------------+----------+-------+------------+------------+\n",
      "|   iPad Pro X|    tablet|   6500|        5500|        1000|\n",
      "|   iPad Pro 2|    tablet|   5500|        4500|        1000|\n",
      "|  Asus Tablet|    tablet|   4500|        2500|        2000|\n",
      "|Xiaomi Tablet|    tablet|   2500|        1500|        1000|\n",
      "|         iPad|    tablet|   1500|           0|           0|\n",
      "|     iPhone X|cell phone|   6000|        6000|           0|\n",
      "|     Galaxy X|cell phone|   6000|        5000|        1000|\n",
      "|     iPhone 8|cell phone|   5000|        3000|        2000|\n",
      "|     iPhone 7|cell phone|   3000|        3000|           0|\n",
      "|     Galaxy 7|cell phone|   3000|           0|           0|\n",
      "+-------------+----------+-------+------------+------------+\n",
      "\n"
     ]
    }
   ],
   "source": [
    "(df\n",
    " .withColumn(\"next_revenue\", F.lag(\"revenue\", -1).over(w_sort_rev))\n",
    " .withColumn(\"revenue_diff\", F.col(\"revenue\") - F.col(\"next_revenue\"))\n",
    " .fillna(0)\n",
    ").show(100)"
   ]
  },
  {
   "cell_type": "code",
   "execution_count": 32,
   "metadata": {},
   "outputs": [
    {
     "name": "stdout",
     "output_type": "stream",
     "text": [
      "+-------------+------------+\n",
      "|      product|revenue_diff|\n",
      "+-------------+------------+\n",
      "|   iPad Pro X|        1000|\n",
      "|   iPad Pro 2|        1000|\n",
      "|  Asus Tablet|        2000|\n",
      "|Xiaomi Tablet|        1000|\n",
      "|         iPad|           0|\n",
      "|     iPhone X|           0|\n",
      "|     Galaxy X|        1000|\n",
      "|     iPhone 8|        2000|\n",
      "|     iPhone 7|           0|\n",
      "|     Galaxy 7|           0|\n",
      "+-------------+------------+\n",
      "\n"
     ]
    }
   ],
   "source": [
    "(df\n",
    " .withColumn(\"next_revenue\", F.lag(\"revenue\", -1).over(w_sort_rev))\n",
    " .withColumn(\"revenue_diff\", F.col(\"revenue\") - F.col(\"next_revenue\"))\n",
    " .fillna(0)\n",
    " .select(\"product\", \"revenue_diff\")\n",
    ").show(100)"
   ]
  },
  {
   "cell_type": "code",
   "execution_count": null,
   "metadata": {},
   "outputs": [],
   "source": []
  }
 ],
 "metadata": {
  "kernelspec": {
   "display_name": "Python 3",
   "language": "python",
   "name": "python3"
  },
  "language_info": {
   "codemirror_mode": {
    "name": "ipython",
    "version": 3
   },
   "file_extension": ".py",
   "mimetype": "text/x-python",
   "name": "python",
   "nbconvert_exporter": "python",
   "pygments_lexer": "ipython3",
   "version": "3.6.4"
  }
 },
 "nbformat": 4,
 "nbformat_minor": 2
}
