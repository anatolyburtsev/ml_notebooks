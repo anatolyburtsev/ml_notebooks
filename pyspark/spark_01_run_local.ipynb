{
 "cells": [
  {
   "cell_type": "markdown",
   "metadata": {},
   "source": [
    "# step 1: download spark binaries"
   ]
  },
  {
   "cell_type": "code",
   "execution_count": 7,
   "metadata": {},
   "outputs": [
    {
     "name": "stdout",
     "output_type": "stream",
     "text": [
      "--2018-09-03 17:49:05--  http://apache-mirror.rbc.ru/pub/apache/spark/spark-2.3.1/spark-2.3.1-bin-hadoop2.7.tgz\n",
      "Распознаётся apache-mirror.rbc.ru (apache-mirror.rbc.ru)… 80.68.250.217\n",
      "Подключение к apache-mirror.rbc.ru (apache-mirror.rbc.ru)|80.68.250.217|:80... соединение установлено.\n",
      "HTTP-запрос отправлен. Ожидание ответа… 200 OK\n",
      "Длина: 225883783 (215M) [application/octet-stream]\n",
      "Сохранение в: «spark-2.3.1-bin-hadoop2.7.tgz»\n",
      "\n",
      "spark-2.3.1-bin-had 100%[===================>] 215,42M  11,2MB/s    за 20s     \n",
      "\n",
      "2018-09-03 17:49:25 (10,9 MB/s) - «spark-2.3.1-bin-hadoop2.7.tgz» сохранён [225883783/225883783]\n",
      "\n"
     ]
    }
   ],
   "source": [
    "# http://alexanderwaldin.github.io/pyspark-quickstart-guide.html\n",
    "! wget http://apache-mirror.rbc.ru/pub/apache/spark/spark-2.3.1/spark-2.3.1-bin-hadoop2.7.tgz"
   ]
  },
  {
   "cell_type": "code",
   "execution_count": 8,
   "metadata": {},
   "outputs": [
    {
     "name": "stdout",
     "output_type": "stream",
     "text": [
      "x spark-2.3.1-bin-hadoop2.7/README.md\r\n"
     ]
    }
   ],
   "source": [
    "! tar -xvzf spark-2.3.1-bin-hadoop2.7.tgz -C /usr/local/bin 2>&1 | tail -1 "
   ]
  },
  {
   "cell_type": "code",
   "execution_count": 9,
   "metadata": {},
   "outputs": [],
   "source": [
    "# add to .bash_profile (os x)\n",
    "# export SPARK_HOME=/usr/local/bin/spark-2.3.1-bin-hadoop2.7\n",
    "# export PYTHONPATH=$SPARK_HOME/python:$SPARK_HOME/python/build:$PYTHONPATH\n",
    "# export PYTHONPATH=$SPARK_HOME/python/lib/py4j-0.10.6-src.zip:$PYTHONPATH"
   ]
  },
  {
   "cell_type": "code",
   "execution_count": 3,
   "metadata": {},
   "outputs": [
    {
     "name": "stdout",
     "output_type": "stream",
     "text": [
      "Requirement already satisfied: pyspark in /anaconda3/lib/python3.6/site-packages (2.3.1)\n",
      "Requirement already satisfied: findspark in /anaconda3/lib/python3.6/site-packages (1.2.0)\n",
      "Requirement already satisfied: py4j==0.10.7 in /anaconda3/lib/python3.6/site-packages (from pyspark) (0.10.7)\n"
     ]
    }
   ],
   "source": [
    "! pip install pyspark findspark |tail -1"
   ]
  },
  {
   "cell_type": "markdown",
   "metadata": {},
   "source": [
    "# step 2. import"
   ]
  },
  {
   "cell_type": "code",
   "execution_count": 12,
   "metadata": {},
   "outputs": [],
   "source": [
    "# easiest way to use spark, launch only in this notebook session\n",
    "import findspark\n",
    "findspark.init()\n",
    "import pyspark"
   ]
  },
  {
   "cell_type": "code",
   "execution_count": 13,
   "metadata": {},
   "outputs": [],
   "source": [
    "from pyspark import SparkContext, SparkConf\n",
    "from pyspark.sql import SparkSession\n",
    "from pyspark.sql.window import Window"
   ]
  },
  {
   "cell_type": "code",
   "execution_count": 14,
   "metadata": {},
   "outputs": [],
   "source": [
    "spark = SparkSession(pyspark.SparkContext(appName=\"myAppName\"))"
   ]
  },
  {
   "cell_type": "code",
   "execution_count": 15,
   "metadata": {},
   "outputs": [],
   "source": [
    "data = (\n",
    "  (\"Ivan\", \"Manager\", 23),\n",
    "  (\"Maria\", \"Developer\", 22),\n",
    "  (\"Vasya\", \"Designer\", 25))"
   ]
  },
  {
   "cell_type": "code",
   "execution_count": 16,
   "metadata": {},
   "outputs": [],
   "source": [
    "df = spark.createDataFrame(data, [\"name\", \"profession\", \"age\"])"
   ]
  },
  {
   "cell_type": "code",
   "execution_count": 17,
   "metadata": {},
   "outputs": [
    {
     "name": "stdout",
     "output_type": "stream",
     "text": [
      "+-----+----------+---+\n",
      "| name|profession|age|\n",
      "+-----+----------+---+\n",
      "| Ivan|   Manager| 23|\n",
      "|Maria| Developer| 22|\n",
      "|Vasya|  Designer| 25|\n",
      "+-----+----------+---+\n",
      "\n"
     ]
    }
   ],
   "source": [
    "df.cache().show(10)"
   ]
  },
  {
   "cell_type": "code",
   "execution_count": 18,
   "metadata": {},
   "outputs": [],
   "source": [
    "spark.stop()"
   ]
  },
  {
   "cell_type": "code",
   "execution_count": null,
   "metadata": {},
   "outputs": [],
   "source": []
  }
 ],
 "metadata": {
  "kernelspec": {
   "display_name": "Python 3",
   "language": "python",
   "name": "python3"
  },
  "language_info": {
   "codemirror_mode": {
    "name": "ipython",
    "version": 3
   },
   "file_extension": ".py",
   "mimetype": "text/x-python",
   "name": "python",
   "nbconvert_exporter": "python",
   "pygments_lexer": "ipython3",
   "version": "3.6.4"
  }
 },
 "nbformat": 4,
 "nbformat_minor": 2
}
