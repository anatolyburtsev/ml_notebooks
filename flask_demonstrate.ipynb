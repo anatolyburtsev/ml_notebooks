{
 "cells": [
  {
   "cell_type": "code",
   "execution_count": 12,
   "metadata": {},
   "outputs": [
    {
     "name": "stdout",
     "output_type": "stream",
     "text": [
      "Successfully installed flask-0.12.2\r\n"
     ]
    }
   ],
   "source": [
    "! pip install flask==0.12.2 | tail -1"
   ]
  },
  {
   "cell_type": "markdown",
   "metadata": {},
   "source": [
    "# emulate recom db"
   ]
  },
  {
   "cell_type": "code",
   "execution_count": 10,
   "metadata": {},
   "outputs": [],
   "source": [
    "recommendation_table = {\n",
    "    \"101\": [\"war and peace\", \"atlas schrugged\"],\n",
    "    \"102\": [\"Chippolino\"]\n",
    "}\n",
    "default_book_lists = [\"bible\"]"
   ]
  },
  {
   "cell_type": "code",
   "execution_count": 11,
   "metadata": {},
   "outputs": [],
   "source": [
    "def get_recommended_books(user_id):\n",
    "    if user_id not in recommendation_table.keys():\n",
    "        return default_book_lists\n",
    "    else:\n",
    "        return recommendation_table.get(user_id)"
   ]
  },
  {
   "cell_type": "markdown",
   "metadata": {},
   "source": [
    "# let's start flask magic"
   ]
  },
  {
   "cell_type": "code",
   "execution_count": 12,
   "metadata": {},
   "outputs": [],
   "source": [
    "from flask import Flask\n",
    "app = Flask(__name__)\n",
    " \n",
    "@app.route(\"/recommendations/<user_id>\")\n",
    "def get_recommendations(user_id):\n",
    "    return str(get_recommended_books(user_id))"
   ]
  },
  {
   "cell_type": "code",
   "execution_count": 13,
   "metadata": {},
   "outputs": [
    {
     "name": "stderr",
     "output_type": "stream",
     "text": [
      " * Running on http://127.0.0.1:10000/ (Press CTRL+C to quit)\n",
      "127.0.0.1 - - [28/Aug/2018 19:54:34] \"GET /recommendations/104 HTTP/1.1\" 200 -\n",
      "127.0.0.1 - - [28/Aug/2018 19:54:36] \"GET /recommendations/101 HTTP/1.1\" 200 -\n"
     ]
    }
   ],
   "source": [
    "app.run(port=10000)"
   ]
  },
  {
   "cell_type": "markdown",
   "metadata": {},
   "source": [
    "Let's see how it works:\n",
    "```\n",
    "curl 127.0.0.1:10000/recommendations/104\n",
    "['bible']\n",
    "\n",
    "curl 127.0.0.1:10000/recommendations/101\n",
    "['war and peace', 'atlas schrugged']\n",
    "```"
   ]
  },
  {
   "cell_type": "code",
   "execution_count": null,
   "metadata": {},
   "outputs": [],
   "source": []
  }
 ],
 "metadata": {
  "kernelspec": {
   "display_name": "Python 3",
   "language": "python",
   "name": "python3"
  },
  "language_info": {
   "codemirror_mode": {
    "name": "ipython",
    "version": 3
   },
   "file_extension": ".py",
   "mimetype": "text/x-python",
   "name": "python",
   "nbconvert_exporter": "python",
   "pygments_lexer": "ipython3",
   "version": "3.6.5"
  }
 },
 "nbformat": 4,
 "nbformat_minor": 2
}
