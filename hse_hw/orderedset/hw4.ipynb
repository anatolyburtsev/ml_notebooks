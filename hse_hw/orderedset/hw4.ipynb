{
 "cells": [
  {
   "cell_type": "markdown",
   "metadata": {},
   "source": [
    "# Ordered Sets, hw4, Burtsev Anatolii"
   ]
  },
  {
   "cell_type": "code",
   "execution_count": 123,
   "metadata": {},
   "outputs": [],
   "source": [
    "# You are given the following training set:\n",
    "# 2,8,3,5,1,8,13,0,6,6,10,8,0,8,0,8,+\n",
    "# 6,11,6,8,5,6,11,5,6,11,9,4,3,12,2,4,+\n",
    "# 1,0,2,1,0,7,14,1,4,7,10,8,0,8,0,8,+\n",
    "# 2,7,4,4,1,8,15,1,5,6,11,8,0,8,0,8,+\n",
    "# 6,9,8,8,8,8,7,3,5,7,8,8,6,8,4,5,-\n",
    "# 5,10,7,8,5,8,3,3,1,7,1,8,5,9,5,8,-\n",
    "# 3,7,5,5,3,11,3,2,2,8,2,9,3,4,2,8,-\n",
    "\n",
    "# and the following test set:\n",
    "# 3,9,5,7,3,12,3,4,3,11,1,9,2,6,3,9\n",
    "# 3,8,5,5,1,6,6,3,1,6,0,8,2,6,1,7\n",
    "# 3,2,4,3,2,8,7,3,9,6,6,8,2,8,6,8\n",
    "\n",
    "# a) Please find all “weak” hypothesis, or in other words, hypothesis which allow one counterexample.\n",
    "# b) Find target classes for test set, using “weak” hypothesis from a)"
   ]
  },
  {
   "cell_type": "code",
   "execution_count": 124,
   "metadata": {},
   "outputs": [],
   "source": [
    "import numpy as np"
   ]
  },
  {
   "cell_type": "code",
   "execution_count": 125,
   "metadata": {},
   "outputs": [],
   "source": [
    "g1 = [2,8,3,5,1,8,13,0,6,6,10,8,0,8,0,8]\n",
    "g2 = [6,11,6,8,5,6,11,5,6,11,9,4,3,12,2,4]\n",
    "g3 = [1,0,2,1,0,7,14,1,4,7,10,8,0,8,0,8]\n",
    "g4 = [2,7,4,4,1,8,15,1,5,6,11,8,0,8,0,8]"
   ]
  },
  {
   "cell_type": "code",
   "execution_count": 126,
   "metadata": {},
   "outputs": [],
   "source": [
    "g_plus = np.array([g1, g2, g3, g4])"
   ]
  },
  {
   "cell_type": "code",
   "execution_count": 127,
   "metadata": {},
   "outputs": [],
   "source": [
    "g5 = [6,9,8,8,8,8,7,3,5,7,8,8,6,8,4,5]\n",
    "g6 = [5,10,7,8,5,8,3,3,1,7,1,8,5,9,5,8]\n",
    "g7 = [3,7,5,5,3,11,3,2,2,8,2,9,3,4,2,8]"
   ]
  },
  {
   "cell_type": "code",
   "execution_count": 128,
   "metadata": {},
   "outputs": [],
   "source": [
    "g_minus = np.array([g5, g6, g7])"
   ]
  },
  {
   "cell_type": "code",
   "execution_count": 129,
   "metadata": {},
   "outputs": [],
   "source": [
    "g8 = [3,9,5,7,3,12,3,4,3,11,1,9,2,6,3,9]\n",
    "g9 = [3,8,5,5,1,6,6,3,1,6,0,8,2,6,1,7]\n",
    "g10= [3,2,4,3,2,8,7,3,9,6,6,8,2,8,6,8]"
   ]
  },
  {
   "cell_type": "code",
   "execution_count": 130,
   "metadata": {},
   "outputs": [],
   "source": [
    "g_test = np.array([g8, g9, g10])"
   ]
  },
  {
   "cell_type": "code",
   "execution_count": 131,
   "metadata": {},
   "outputs": [],
   "source": [
    "g_minus_low = g_minus.min(axis=0)\n",
    "g_minus_high = g_minus.max(axis=0)\n",
    "g_plus_low = g_plus.min(axis=0)\n",
    "g_plus_high = g_plus.max(axis=0)"
   ]
  },
  {
   "cell_type": "markdown",
   "metadata": {},
   "source": [
    "# let's check is any of test's instance included in Class + or Class -"
   ]
  },
  {
   "cell_type": "code",
   "execution_count": 132,
   "metadata": {},
   "outputs": [
    {
     "data": {
      "text/plain": [
       "(array([False, False, False]), array([False,  True, False]))"
      ]
     },
     "execution_count": 132,
     "metadata": {},
     "output_type": "execute_result"
    }
   ],
   "source": [
    "(g_test >= g_plus_low).min(axis=1), (g_test <= g_plus_high).min(axis=1)"
   ]
  },
  {
   "cell_type": "code",
   "execution_count": 133,
   "metadata": {},
   "outputs": [
    {
     "data": {
      "text/plain": [
       "(array([False, False, False]), array([False,  True, False]))"
      ]
     },
     "execution_count": 133,
     "metadata": {},
     "output_type": "execute_result"
    }
   ],
   "source": [
    "(g_test >= g_minus_low).min(axis=1), (g_test <= g_minus_high).min(axis=1)"
   ]
  },
  {
   "cell_type": "markdown",
   "metadata": {},
   "source": [
    "# not anyone test's instance doesn't satisfy common hypothesis for both classes. \n",
    "# Let's check weak hypothesis"
   ]
  },
  {
   "cell_type": "code",
   "execution_count": 134,
   "metadata": {},
   "outputs": [],
   "source": [
    "def build_weak_hypothesis(first_class, second_class, i):\n",
    "    # build weak hypothesis for all first_class and one instance from second class with index i\n",
    "    g = np.concatenate((first_class, second_class[i].reshape([1, -1])))\n",
    "    low = g.min(axis=0)\n",
    "    high = g.max(axis=0)\n",
    "    c = 0\n",
    "    for j in range(second_class.shape[0]):\n",
    "        g_counter = second_class[j]\n",
    "        if (g_counter >= low).all() and (g_counter <= high).all():\n",
    "            c += 1\n",
    "    # allow only one counter example\n",
    "    if c <= 1:\n",
    "        return np.array((low, high))\n"
   ]
  },
  {
   "cell_type": "markdown",
   "metadata": {},
   "source": [
    "# first weak hypothesis for class + and first element from class -"
   ]
  },
  {
   "cell_type": "code",
   "execution_count": 135,
   "metadata": {},
   "outputs": [],
   "source": [
    "hp1 = build_weak_hypothesis(g_plus, g_minus, 0)"
   ]
  },
  {
   "cell_type": "code",
   "execution_count": 136,
   "metadata": {},
   "outputs": [
    {
     "data": {
      "text/plain": [
       "array([[ 1,  0,  2,  1,  0,  6,  7,  0,  4,  6,  8,  4,  0,  8,  0,  4],\n",
       "       [ 6, 11,  8,  8,  8,  8, 15,  5,  6, 11, 11,  8,  6, 12,  4,  8]])"
      ]
     },
     "execution_count": 136,
     "metadata": {},
     "output_type": "execute_result"
    }
   ],
   "source": [
    "hp1"
   ]
  },
  {
   "cell_type": "markdown",
   "metadata": {},
   "source": [
    "# compare it with just class + (they differs, weak hypothesis wider)"
   ]
  },
  {
   "cell_type": "code",
   "execution_count": 137,
   "metadata": {},
   "outputs": [
    {
     "data": {
      "text/plain": [
       "(array([ 1,  0,  2,  1,  0,  6, 11,  0,  4,  6,  9,  4,  0,  8,  0,  4]),\n",
       " array([ 6, 11,  6,  8,  5,  8, 15,  5,  6, 11, 11,  8,  3, 12,  2,  8]))"
      ]
     },
     "execution_count": 137,
     "metadata": {},
     "output_type": "execute_result"
    }
   ],
   "source": [
    "g_plus_low, g_plus_high"
   ]
  },
  {
   "cell_type": "code",
   "execution_count": 138,
   "metadata": {},
   "outputs": [],
   "source": [
    "hp2 = build_weak_hypothesis(g_plus, g_minus, 1)"
   ]
  },
  {
   "cell_type": "code",
   "execution_count": 139,
   "metadata": {},
   "outputs": [],
   "source": [
    "hp3 = build_weak_hypothesis(g_plus, g_minus, 2)"
   ]
  },
  {
   "cell_type": "code",
   "execution_count": 140,
   "metadata": {},
   "outputs": [],
   "source": [
    "hm1 = build_weak_hypothesis(g_minus, g_plus, 0)"
   ]
  },
  {
   "cell_type": "code",
   "execution_count": 141,
   "metadata": {},
   "outputs": [],
   "source": [
    "hm2 = build_weak_hypothesis(g_minus, g_plus, 1)"
   ]
  },
  {
   "cell_type": "code",
   "execution_count": 142,
   "metadata": {},
   "outputs": [],
   "source": [
    "hm3 = build_weak_hypothesis(g_minus, g_plus, 2)"
   ]
  },
  {
   "cell_type": "code",
   "execution_count": 143,
   "metadata": {},
   "outputs": [],
   "source": [
    "hm4 = build_weak_hypothesis(g_minus, g_plus, 3)"
   ]
  },
  {
   "cell_type": "markdown",
   "metadata": {},
   "source": [
    "# all weak hypothesis (lower and upper bounds for each)"
   ]
  },
  {
   "cell_type": "code",
   "execution_count": 144,
   "metadata": {},
   "outputs": [
    {
     "data": {
      "text/plain": [
       "array([[ 1,  0,  2,  1,  0,  6,  7,  0,  4,  6,  8,  4,  0,  8,  0,  4],\n",
       "       [ 6, 11,  8,  8,  8,  8, 15,  5,  6, 11, 11,  8,  6, 12,  4,  8]])"
      ]
     },
     "execution_count": 144,
     "metadata": {},
     "output_type": "execute_result"
    }
   ],
   "source": [
    "hp1"
   ]
  },
  {
   "cell_type": "code",
   "execution_count": 145,
   "metadata": {},
   "outputs": [
    {
     "data": {
      "text/plain": [
       "array([[ 1,  0,  2,  1,  0,  6,  3,  0,  1,  6,  1,  4,  0,  8,  0,  4],\n",
       "       [ 6, 11,  7,  8,  5,  8, 15,  5,  6, 11, 11,  8,  5, 12,  5,  8]])"
      ]
     },
     "execution_count": 145,
     "metadata": {},
     "output_type": "execute_result"
    }
   ],
   "source": [
    "hp2"
   ]
  },
  {
   "cell_type": "code",
   "execution_count": 146,
   "metadata": {},
   "outputs": [
    {
     "data": {
      "text/plain": [
       "array([[ 1,  0,  2,  1,  0,  6,  3,  0,  2,  6,  2,  4,  0,  4,  0,  4],\n",
       "       [ 6, 11,  6,  8,  5, 11, 15,  5,  6, 11, 11,  9,  3, 12,  2,  8]])"
      ]
     },
     "execution_count": 146,
     "metadata": {},
     "output_type": "execute_result"
    }
   ],
   "source": [
    "hp3"
   ]
  },
  {
   "cell_type": "code",
   "execution_count": 147,
   "metadata": {},
   "outputs": [
    {
     "data": {
      "text/plain": [
       "array([[ 2,  7,  3,  5,  1,  8,  3,  0,  1,  6,  1,  8,  0,  4,  0,  5],\n",
       "       [ 6, 10,  8,  8,  8, 11, 13,  3,  6,  8, 10,  9,  6,  9,  5,  8]])"
      ]
     },
     "execution_count": 147,
     "metadata": {},
     "output_type": "execute_result"
    }
   ],
   "source": [
    "hm1"
   ]
  },
  {
   "cell_type": "code",
   "execution_count": 148,
   "metadata": {},
   "outputs": [
    {
     "data": {
      "text/plain": [
       "array([[ 3,  7,  5,  5,  3,  6,  3,  2,  1,  7,  1,  4,  3,  4,  2,  4],\n",
       "       [ 6, 11,  8,  8,  8, 11, 11,  5,  6, 11,  9,  9,  6, 12,  5,  8]])"
      ]
     },
     "execution_count": 148,
     "metadata": {},
     "output_type": "execute_result"
    }
   ],
   "source": [
    "hm2"
   ]
  },
  {
   "cell_type": "code",
   "execution_count": 149,
   "metadata": {},
   "outputs": [
    {
     "data": {
      "text/plain": [
       "array([[ 1,  0,  2,  1,  0,  7,  3,  1,  1,  7,  1,  8,  0,  4,  0,  5],\n",
       "       [ 6, 10,  8,  8,  8, 11, 14,  3,  5,  8, 10,  9,  6,  9,  5,  8]])"
      ]
     },
     "execution_count": 149,
     "metadata": {},
     "output_type": "execute_result"
    }
   ],
   "source": [
    "hm3"
   ]
  },
  {
   "cell_type": "code",
   "execution_count": 150,
   "metadata": {},
   "outputs": [
    {
     "data": {
      "text/plain": [
       "array([[ 2,  7,  4,  4,  1,  8,  3,  1,  1,  6,  1,  8,  0,  4,  0,  5],\n",
       "       [ 6, 10,  8,  8,  8, 11, 15,  3,  5,  8, 11,  9,  6,  9,  5,  8]])"
      ]
     },
     "execution_count": 150,
     "metadata": {},
     "output_type": "execute_result"
    }
   ],
   "source": [
    "hm4"
   ]
  },
  {
   "cell_type": "code",
   "execution_count": 151,
   "metadata": {},
   "outputs": [],
   "source": [
    "def is_it_satisfy_hypothesis(hypot, gt):\n",
    "    return (hypot[0] <= gt).all() and (hypot[1] >= gt).all()"
   ]
  },
  {
   "cell_type": "markdown",
   "metadata": {},
   "source": [
    "# time to check is one of test's instances satisfy any of weak hypothesis"
   ]
  },
  {
   "cell_type": "code",
   "execution_count": 152,
   "metadata": {},
   "outputs": [
    {
     "name": "stdout",
     "output_type": "stream",
     "text": [
      "False\n",
      "False\n",
      "False\n",
      "False\n",
      "False\n",
      "False\n",
      "False\n"
     ]
    }
   ],
   "source": [
    "for h in [hp1, hp2, hp3, hm1, hm2, hm3, hm4]:\n",
    "    print(is_it_satisfy_hypothesis(h, g8))"
   ]
  },
  {
   "cell_type": "code",
   "execution_count": 153,
   "metadata": {},
   "outputs": [
    {
     "name": "stdout",
     "output_type": "stream",
     "text": [
      "False\n",
      "False\n",
      "False\n",
      "False\n",
      "False\n",
      "False\n",
      "False\n"
     ]
    }
   ],
   "source": [
    "for h in [hp1, hp2, hp3, hm1, hm2, hm3, hm4]:\n",
    "    print(is_it_satisfy_hypothesis(h, g9))"
   ]
  },
  {
   "cell_type": "code",
   "execution_count": 154,
   "metadata": {},
   "outputs": [
    {
     "name": "stdout",
     "output_type": "stream",
     "text": [
      "False\n",
      "False\n",
      "False\n",
      "False\n",
      "False\n",
      "False\n",
      "False\n"
     ]
    }
   ],
   "source": [
    "for h in [hp1, hp2, hp3, hm1, hm2, hm3, hm4]:\n",
    "    print(is_it_satisfy_hypothesis(h, g10))"
   ]
  },
  {
   "cell_type": "markdown",
   "metadata": {},
   "source": [
    "No one of our weak hypothesis could classify test's instances "
   ]
  },
  {
   "cell_type": "markdown",
   "metadata": {},
   "source": [
    "# № 3"
   ]
  },
  {
   "cell_type": "markdown",
   "metadata": {},
   "source": [
    "Follow the algorithm of lazy classification – intersect test object description with descriptions from training set one by one.\n",
    "Define a classification rule such that, test objects 1) and 3) will be classified as class 1, and object 2) as class 2"
   ]
  },
  {
   "cell_type": "code",
   "execution_count": 155,
   "metadata": {},
   "outputs": [
    {
     "data": {
      "text/plain": [
       "(7, 16)"
      ]
     },
     "execution_count": 155,
     "metadata": {},
     "output_type": "execute_result"
    }
   ],
   "source": [
    "train = np.concatenate((g_plus, g_minus))\n",
    "train.shape"
   ]
  },
  {
   "cell_type": "markdown",
   "metadata": {},
   "source": [
    "classification rules look like that:\n",
    "\n",
    "min votes = 0\n",
    "\n",
    "min votes difference = 2\n",
    "\n",
    "\n",
    "if amount of voice for class 2 is even -> class 2, else -> class 1\n",
    "\n",
    "You could see work of this classifier at the end of page"
   ]
  },
  {
   "cell_type": "code",
   "execution_count": 156,
   "metadata": {},
   "outputs": [],
   "source": [
    "def classifier(g_test):\n",
    "    pre_votes = voting(g_test, min_votes=0, min_votes_diff=2)\n",
    "    votes = votes_to_decision(pre_votes)\n",
    "    if votes[1] % 2 == 1:\n",
    "        return 2\n",
    "    else: \n",
    "        return 1"
   ]
  },
  {
   "cell_type": "code",
   "execution_count": 157,
   "metadata": {},
   "outputs": [],
   "source": [
    "def voting(g_test, min_votes=2, min_votes_diff=2):\n",
    "    votes = []\n",
    "    for i in range(train.shape[0]):\n",
    "        g = np.concatenate((g_test, train[i]))\n",
    "        low = g.min(axis=0)\n",
    "        high = g.max(axis=0)\n",
    "        pre_votes_plus = 0\n",
    "        pre_votes_minus = 0\n",
    "        for j in range(g_plus.shape[0]):\n",
    "            gp = g_plus[j]\n",
    "            if (gp >= low).all() and (gp <= high).all():\n",
    "                pre_votes_plus += 1\n",
    "        for j in range(g_minus.shape[0]):\n",
    "            gm = g_minus[j]\n",
    "            if (gm >= low).all() and (gm <= high).all():\n",
    "                pre_votes_minus += 1\n",
    "        if pre_votes_plus < min_votes and pre_votes_minus < min_votes:\n",
    "            continue\n",
    "        if pre_votes_plus == pre_votes_minus:\n",
    "            continue\n",
    "        if abs(pre_votes_plus - pre_votes_minus) < min_votes_diff:\n",
    "            continue\n",
    "        votes.append((pre_votes_plus, pre_votes_minus))\n",
    "        \n",
    "    return np.array(votes)"
   ]
  },
  {
   "cell_type": "code",
   "execution_count": 158,
   "metadata": {},
   "outputs": [],
   "source": [
    "def votes_to_decision(votes):\n",
    "    votes_for_plus = 1*(votes[:,0] > votes[:, 1]).sum()\n",
    "    votes_for_minus = 1*(votes[:,0] < votes[:, 1]).sum()\n",
    "    return (votes_for_plus, votes_for_minus)"
   ]
  },
  {
   "cell_type": "code",
   "execution_count": 159,
   "metadata": {},
   "outputs": [
    {
     "data": {
      "text/plain": [
       "1"
      ]
     },
     "execution_count": 159,
     "metadata": {},
     "output_type": "execute_result"
    }
   ],
   "source": [
    "classifier(g8)"
   ]
  },
  {
   "cell_type": "code",
   "execution_count": 160,
   "metadata": {},
   "outputs": [
    {
     "data": {
      "text/plain": [
       "2"
      ]
     },
     "execution_count": 160,
     "metadata": {},
     "output_type": "execute_result"
    }
   ],
   "source": [
    "classifier(g9)"
   ]
  },
  {
   "cell_type": "code",
   "execution_count": 161,
   "metadata": {},
   "outputs": [
    {
     "data": {
      "text/plain": [
       "1"
      ]
     },
     "execution_count": 161,
     "metadata": {},
     "output_type": "execute_result"
    }
   ],
   "source": [
    "classifier(g10)"
   ]
  }
 ],
 "metadata": {
  "kernelspec": {
   "display_name": "Python 3",
   "language": "python",
   "name": "python3"
  },
  "language_info": {
   "codemirror_mode": {
    "name": "ipython",
    "version": 3
   },
   "file_extension": ".py",
   "mimetype": "text/x-python",
   "name": "python",
   "nbconvert_exporter": "python",
   "pygments_lexer": "ipython3",
   "version": "3.7.0"
  }
 },
 "nbformat": 4,
 "nbformat_minor": 2
}
