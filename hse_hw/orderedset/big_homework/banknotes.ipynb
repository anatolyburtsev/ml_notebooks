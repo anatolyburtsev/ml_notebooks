{
 "cells": [
  {
   "cell_type": "code",
   "execution_count": 1,
   "metadata": {},
   "outputs": [],
   "source": [
    "import pandas as pd\n",
    "import numpy as np\n",
    "import io\n",
    "import requests\n",
    "import os.path\n",
    "from matplotlib import pyplot as plt\n",
    "from datetime import datetime as dt\n",
    "% matplotlib inline"
   ]
  },
  {
   "cell_type": "code",
   "execution_count": 2,
   "metadata": {},
   "outputs": [],
   "source": [
    "random_state = 43"
   ]
  },
  {
   "cell_type": "markdown",
   "metadata": {},
   "source": [
    "Task:\n",
    "\n",
    "Build a classifier over FCA method and compare it to the common algorithms.\n",
    "\n",
    "I've chosen banknote authentication Data Set https://archive.ics.uci.edu/ml/datasets/banknote+authentication\n",
    "\n",
    "Number of instances: 1372\n",
    "\n",
    "Train: 75%, Test: 25%\n",
    "\n",
    "4 real attributes\n",
    "\n",
    "1 binary target\n",
    "\n",
    "\n",
    "Using histogram I got tresholds to transform real attributes to binary. \n",
    "Each instance calculate votes for class \"+\" and for class \"-\". \n",
    "\n",
    "if $votes$\"+\"==0 and $votes$\"-\"==0, there is no prediction for such instance.\n",
    "if $\\frac{votes\"+\"}{(1 + votes\"-\")} < tau$ this instance belongs to class +, otherwise - to class -.\n",
    "$tau$ - is a hyperparameter."
   ]
  },
  {
   "cell_type": "code",
   "execution_count": 3,
   "metadata": {},
   "outputs": [],
   "source": [
    "if not os.path.exists(\"data.csv\"):\n",
    "    url=\"https://archive.ics.uci.edu/ml/machine-learning-databases/00267/data_banknote_authentication.txt\"\n",
    "    s=requests.get(url).content\n",
    "    c=pd.read_csv(io.StringIO(s.decode('utf-8')), names=[\"variance\", \"skewness\", \"curtosis\", \"entropy\", \"forgery\"])\n",
    "    c.to_csv(\"data.csv\")"
   ]
  },
  {
   "cell_type": "code",
   "execution_count": 4,
   "metadata": {},
   "outputs": [
    {
     "data": {
      "text/html": [
       "<div>\n",
       "<style scoped>\n",
       "    .dataframe tbody tr th:only-of-type {\n",
       "        vertical-align: middle;\n",
       "    }\n",
       "\n",
       "    .dataframe tbody tr th {\n",
       "        vertical-align: top;\n",
       "    }\n",
       "\n",
       "    .dataframe thead th {\n",
       "        text-align: right;\n",
       "    }\n",
       "</style>\n",
       "<table border=\"1\" class=\"dataframe\">\n",
       "  <thead>\n",
       "    <tr style=\"text-align: right;\">\n",
       "      <th></th>\n",
       "      <th>variance</th>\n",
       "      <th>skewness</th>\n",
       "      <th>curtosis</th>\n",
       "      <th>entropy</th>\n",
       "      <th>forgery</th>\n",
       "    </tr>\n",
       "  </thead>\n",
       "  <tbody>\n",
       "    <tr>\n",
       "      <th>0</th>\n",
       "      <td>3.62160</td>\n",
       "      <td>8.6661</td>\n",
       "      <td>-2.8073</td>\n",
       "      <td>-0.44699</td>\n",
       "      <td>0</td>\n",
       "    </tr>\n",
       "    <tr>\n",
       "      <th>1</th>\n",
       "      <td>4.54590</td>\n",
       "      <td>8.1674</td>\n",
       "      <td>-2.4586</td>\n",
       "      <td>-1.46210</td>\n",
       "      <td>0</td>\n",
       "    </tr>\n",
       "    <tr>\n",
       "      <th>2</th>\n",
       "      <td>3.86600</td>\n",
       "      <td>-2.6383</td>\n",
       "      <td>1.9242</td>\n",
       "      <td>0.10645</td>\n",
       "      <td>0</td>\n",
       "    </tr>\n",
       "    <tr>\n",
       "      <th>3</th>\n",
       "      <td>3.45660</td>\n",
       "      <td>9.5228</td>\n",
       "      <td>-4.0112</td>\n",
       "      <td>-3.59440</td>\n",
       "      <td>0</td>\n",
       "    </tr>\n",
       "    <tr>\n",
       "      <th>4</th>\n",
       "      <td>0.32924</td>\n",
       "      <td>-4.4552</td>\n",
       "      <td>4.5718</td>\n",
       "      <td>-0.98880</td>\n",
       "      <td>0</td>\n",
       "    </tr>\n",
       "  </tbody>\n",
       "</table>\n",
       "</div>"
      ],
      "text/plain": [
       "   variance  skewness  curtosis  entropy  forgery\n",
       "0   3.62160    8.6661   -2.8073 -0.44699        0\n",
       "1   4.54590    8.1674   -2.4586 -1.46210        0\n",
       "2   3.86600   -2.6383    1.9242  0.10645        0\n",
       "3   3.45660    9.5228   -4.0112 -3.59440        0\n",
       "4   0.32924   -4.4552    4.5718 -0.98880        0"
      ]
     },
     "execution_count": 4,
     "metadata": {},
     "output_type": "execute_result"
    }
   ],
   "source": [
    "data = pd.read_csv(\"data.csv\", index_col=0)\n",
    "data.head()"
   ]
  },
  {
   "cell_type": "code",
   "execution_count": 5,
   "metadata": {},
   "outputs": [
    {
     "data": {
      "text/plain": [
       "(1372, 5)"
      ]
     },
     "execution_count": 5,
     "metadata": {},
     "output_type": "execute_result"
    }
   ],
   "source": [
    "data.shape"
   ]
  },
  {
   "cell_type": "code",
   "execution_count": 6,
   "metadata": {},
   "outputs": [],
   "source": [
    "def show_hist_par(data, column):\n",
    "    plt.hist(data[data[\"forgery\"] == 0][column], color=\"r\", alpha=0.5)\n",
    "    plt.hist(data[data[\"forgery\"] == 1][column], color=\"b\", alpha=0.5)\n",
    "    plt.title(column)\n",
    "    plt.show()"
   ]
  },
  {
   "cell_type": "code",
   "execution_count": 7,
   "metadata": {},
   "outputs": [
    {
     "data": {
      "image/png": "[encoded data removed]",
      "text/plain": [
       "<Figure size 432x288 with 1 Axes>"
      ]
     },
     "metadata": {
      "needs_background": "light"
     },
     "output_type": "display_data"
    },
    {
     "data": {
      "image/png": "[encoded data removed]",
      "text/plain": [
       "<Figure size 432x288 with 1 Axes>"
      ]
     },
     "metadata": {
      "needs_background": "light"
     },
     "output_type": "display_data"
    },
    {
     "data": {
      "image/png": "[encoded data removed]",
      "text/plain": [
       "<Figure size 432x288 with 1 Axes>"
      ]
     },
     "metadata": {
      "needs_background": "light"
     },
     "output_type": "display_data"
    },
    {
     "data": {
      "image/png": "[encoded data removed]",
      "text/plain": [
       "<Figure size 432x288 with 1 Axes>"
      ]
     },
     "metadata": {
      "needs_background": "light"
     },
     "output_type": "display_data"
    },
    {
     "data": {
      "image/png": "[encoded data removed]",
      "text/plain": [
       "<Figure size 432x288 with 1 Axes>"
      ]
     },
     "metadata": {
      "needs_background": "light"
     },
     "output_type": "display_data"
    }
   ],
   "source": [
    "for i in data.columns:\n",
    "    show_hist_par(data, i)"
   ]
  },
  {
   "cell_type": "markdown",
   "metadata": {},
   "source": [
    "# Scaling"
   ]
  },
  {
   "cell_type": "code",
   "execution_count": 8,
   "metadata": {},
   "outputs": [],
   "source": [
    "variance_border = 0\n",
    "skewness_border_1 = -2.5\n",
    "skewness_border_2 = 5\n",
    "curtosis_border_1 = 2\n",
    "curtosis_border_2 = 8\n",
    "entropy_border = -1.5"
   ]
  },
  {
   "cell_type": "code",
   "execution_count": 9,
   "metadata": {},
   "outputs": [
    {
     "data": {
      "text/html": [
       "<div>\n",
       "<style scoped>\n",
       "    .dataframe tbody tr th:only-of-type {\n",
       "        vertical-align: middle;\n",
       "    }\n",
       "\n",
       "    .dataframe tbody tr th {\n",
       "        vertical-align: top;\n",
       "    }\n",
       "\n",
       "    .dataframe thead th {\n",
       "        text-align: right;\n",
       "    }\n",
       "</style>\n",
       "<table border=\"1\" class=\"dataframe\">\n",
       "  <thead>\n",
       "    <tr style=\"text-align: right;\">\n",
       "      <th></th>\n",
       "      <th>variance_l</th>\n",
       "      <th>variance_h</th>\n",
       "      <th>skewness_l</th>\n",
       "      <th>skewness_m</th>\n",
       "      <th>skewness_h</th>\n",
       "      <th>curtosis_l</th>\n",
       "      <th>curtosis_m</th>\n",
       "      <th>curtosis_h</th>\n",
       "      <th>entropy_l</th>\n",
       "      <th>entropy_h</th>\n",
       "    </tr>\n",
       "  </thead>\n",
       "  <tbody>\n",
       "    <tr>\n",
       "      <th>0</th>\n",
       "      <td>0</td>\n",
       "      <td>1</td>\n",
       "      <td>0</td>\n",
       "      <td>0</td>\n",
       "      <td>1</td>\n",
       "      <td>1</td>\n",
       "      <td>0</td>\n",
       "      <td>0</td>\n",
       "      <td>0</td>\n",
       "      <td>1</td>\n",
       "    </tr>\n",
       "    <tr>\n",
       "      <th>1</th>\n",
       "      <td>0</td>\n",
       "      <td>1</td>\n",
       "      <td>0</td>\n",
       "      <td>0</td>\n",
       "      <td>1</td>\n",
       "      <td>1</td>\n",
       "      <td>0</td>\n",
       "      <td>0</td>\n",
       "      <td>0</td>\n",
       "      <td>1</td>\n",
       "    </tr>\n",
       "    <tr>\n",
       "      <th>2</th>\n",
       "      <td>0</td>\n",
       "      <td>1</td>\n",
       "      <td>1</td>\n",
       "      <td>0</td>\n",
       "      <td>0</td>\n",
       "      <td>1</td>\n",
       "      <td>0</td>\n",
       "      <td>0</td>\n",
       "      <td>0</td>\n",
       "      <td>1</td>\n",
       "    </tr>\n",
       "    <tr>\n",
       "      <th>3</th>\n",
       "      <td>0</td>\n",
       "      <td>1</td>\n",
       "      <td>0</td>\n",
       "      <td>0</td>\n",
       "      <td>1</td>\n",
       "      <td>1</td>\n",
       "      <td>0</td>\n",
       "      <td>0</td>\n",
       "      <td>1</td>\n",
       "      <td>0</td>\n",
       "    </tr>\n",
       "    <tr>\n",
       "      <th>4</th>\n",
       "      <td>0</td>\n",
       "      <td>1</td>\n",
       "      <td>1</td>\n",
       "      <td>0</td>\n",
       "      <td>0</td>\n",
       "      <td>0</td>\n",
       "      <td>1</td>\n",
       "      <td>0</td>\n",
       "      <td>0</td>\n",
       "      <td>1</td>\n",
       "    </tr>\n",
       "  </tbody>\n",
       "</table>\n",
       "</div>"
      ],
      "text/plain": [
       "   variance_l  variance_h  skewness_l  skewness_m  skewness_h  curtosis_l  \\\n",
       "0           0           1           0           0           1           1   \n",
       "1           0           1           0           0           1           1   \n",
       "2           0           1           1           0           0           1   \n",
       "3           0           1           0           0           1           1   \n",
       "4           0           1           1           0           0           0   \n",
       "\n",
       "   curtosis_m  curtosis_h  entropy_l  entropy_h  \n",
       "0           0           0          0          1  \n",
       "1           0           0          0          1  \n",
       "2           0           0          0          1  \n",
       "3           0           0          1          0  \n",
       "4           1           0          0          1  "
      ]
     },
     "execution_count": 9,
     "metadata": {},
     "output_type": "execute_result"
    }
   ],
   "source": [
    "X = pd.DataFrame()\n",
    "X[\"variance_l\"] = 1 * (data[\"variance\"] < variance_border)\n",
    "X[\"variance_h\"] = 1 * (data[\"variance\"] >= variance_border)\n",
    "X[\"skewness_l\"] = 1 * (data[\"skewness\"] < skewness_border_1)\n",
    "X[\"skewness_m\"] = 1 * (skewness_border_1 <= data[\"skewness\"]) * (data[\"skewness\"] < skewness_border_2)\n",
    "X[\"skewness_h\"] = 1 * (data[\"skewness\"] >= skewness_border_2)\n",
    "X[\"curtosis_l\"] = 1 * (data[\"curtosis\"] < curtosis_border_1)\n",
    "X[\"curtosis_m\"] = 1 * (data[\"curtosis\"] >= curtosis_border_1) * (data[\"curtosis\"] < curtosis_border_2)\n",
    "X[\"curtosis_h\"] = 1 * (data[\"curtosis\"] >= curtosis_border_2)\n",
    "X[\"entropy_l\"] = 1 * (data[\"entropy\"] < entropy_border)\n",
    "X[\"entropy_h\"] = 1 * (data[\"entropy\"] >= entropy_border)\n",
    "X.head()"
   ]
  },
  {
   "cell_type": "code",
   "execution_count": 10,
   "metadata": {},
   "outputs": [],
   "source": [
    "y = data[\"forgery\"].values"
   ]
  },
  {
   "cell_type": "markdown",
   "metadata": {},
   "source": [
    "# common models (Linear, Tree, KNN)"
   ]
  },
  {
   "cell_type": "code",
   "execution_count": 11,
   "metadata": {},
   "outputs": [],
   "source": [
    "from sklearn.linear_model import RidgeClassifier\n",
    "from sklearn.neighbors import KNeighborsClassifier\n",
    "from sklearn.tree import DecisionTreeClassifier\n",
    "\n",
    "from sklearn.metrics import precision_score, accuracy_score, recall_score\n",
    "from sklearn.model_selection import train_test_split"
   ]
  },
  {
   "cell_type": "code",
   "execution_count": 12,
   "metadata": {},
   "outputs": [],
   "source": [
    "X_train, X_test, y_train, y_test = train_test_split(X, y, random_state=random_state)"
   ]
  },
  {
   "cell_type": "code",
   "execution_count": 13,
   "metadata": {},
   "outputs": [],
   "source": [
    "class Classifier:\n",
    "    untrained_classifier = None\n",
    "    classifier = None\n",
    "    y_pred = None\n",
    "    recall = None\n",
    "    precision = None\n",
    "    accuracy = None\n",
    "    name = None\n",
    "    _round_digits = 3\n",
    "    \n",
    "    def __init__(self, classifier, name):\n",
    "        self.untrained_classifier = classifier\n",
    "        self.name = name\n",
    "        \n",
    "    def train(self, X_train, y_train):\n",
    "        t = dt.now()\n",
    "        self.classifier = self.untrained_classifier.fit(X_train, y_train)\n",
    "        self.train_time = (dt.now() - t).microseconds\n",
    "        return self\n",
    "    \n",
    "    def calc_metrics(self, X_test, y_test):\n",
    "        self.y_pred = self.classifier.predict(X_test)\n",
    "        self.recall = round(recall_score(self.y_pred, y_test), ndigits=self._round_digits)\n",
    "        self.precision = round(precision_score(self.y_pred, y_test), ndigits=self._round_digits)\n",
    "        self.accuracy = round(accuracy_score(self.y_pred, y_test), ndigits=self._round_digits)\n",
    "        return self\n",
    "        \n",
    "    def __str__(self):\n",
    "        return f\"\"\"classifier: {self.name}, \n",
    "recall: {self.recall}, \n",
    "precision: {self.precision}, \n",
    "accuracy: {self.accuracy}\\n\n",
    "\"\"\"\n",
    "    \n",
    "    def __repr__(self):\n",
    "        return f\"model {self.name}\"\n",
    "    \n",
    "    def get_metrics(self):\n",
    "        return [self.name, self.recall, self.precision, self.accuracy, self.train_time]"
   ]
  },
  {
   "cell_type": "code",
   "execution_count": 14,
   "metadata": {},
   "outputs": [],
   "source": [
    "clss = [\n",
    "    Classifier(RidgeClassifier(), \"ridge\"),\n",
    "    Classifier(KNeighborsClassifier(), \"knn\"),\n",
    "    Classifier(DecisionTreeClassifier(), \"tree\")\n",
    "]"
   ]
  },
  {
   "cell_type": "code",
   "execution_count": 15,
   "metadata": {},
   "outputs": [
    {
     "data": {
      "text/plain": [
       "[model ridge, model knn, model tree]"
      ]
     },
     "execution_count": 15,
     "metadata": {},
     "output_type": "execute_result"
    }
   ],
   "source": [
    "[(x.train(X_train, y_train)\n",
    "     .calc_metrics(X_test, y_test))\n",
    "    for x in clss]"
   ]
  },
  {
   "cell_type": "markdown",
   "metadata": {},
   "source": [
    "# calculate metrics"
   ]
  },
  {
   "cell_type": "code",
   "execution_count": 16,
   "metadata": {},
   "outputs": [
    {
     "data": {
      "text/html": [
       "<div>\n",
       "<style scoped>\n",
       "    .dataframe tbody tr th:only-of-type {\n",
       "        vertical-align: middle;\n",
       "    }\n",
       "\n",
       "    .dataframe tbody tr th {\n",
       "        vertical-align: top;\n",
       "    }\n",
       "\n",
       "    .dataframe thead th {\n",
       "        text-align: right;\n",
       "    }\n",
       "</style>\n",
       "<table border=\"1\" class=\"dataframe\">\n",
       "  <thead>\n",
       "    <tr style=\"text-align: right;\">\n",
       "      <th></th>\n",
       "      <th>classifier</th>\n",
       "      <th>recall</th>\n",
       "      <th>precision</th>\n",
       "      <th>accuracy</th>\n",
       "      <th>train_time, ms</th>\n",
       "    </tr>\n",
       "  </thead>\n",
       "  <tbody>\n",
       "    <tr>\n",
       "      <th>0</th>\n",
       "      <td>ridge</td>\n",
       "      <td>0.875</td>\n",
       "      <td>0.851</td>\n",
       "      <td>0.883</td>\n",
       "      <td>4475</td>\n",
       "    </tr>\n",
       "    <tr>\n",
       "      <th>1</th>\n",
       "      <td>knn</td>\n",
       "      <td>0.889</td>\n",
       "      <td>0.919</td>\n",
       "      <td>0.915</td>\n",
       "      <td>1844</td>\n",
       "    </tr>\n",
       "    <tr>\n",
       "      <th>2</th>\n",
       "      <td>tree</td>\n",
       "      <td>0.960</td>\n",
       "      <td>0.818</td>\n",
       "      <td>0.907</td>\n",
       "      <td>908</td>\n",
       "    </tr>\n",
       "  </tbody>\n",
       "</table>\n",
       "</div>"
      ],
      "text/plain": [
       "  classifier  recall  precision  accuracy  train_time, ms\n",
       "0      ridge   0.875      0.851     0.883            4475\n",
       "1        knn   0.889      0.919     0.915            1844\n",
       "2       tree   0.960      0.818     0.907             908"
      ]
     },
     "execution_count": 16,
     "metadata": {},
     "output_type": "execute_result"
    }
   ],
   "source": [
    "metrics = pd.DataFrame([x.get_metrics() for x in clss], columns=[\"classifier\", \"recall\", \"precision\", \"accuracy\", \"train_time, ms\"])\n",
    "metrics"
   ]
  },
  {
   "cell_type": "markdown",
   "metadata": {},
   "source": [
    "# FCA"
   ]
  },
  {
   "cell_type": "code",
   "execution_count": 17,
   "metadata": {},
   "outputs": [
    {
     "data": {
      "text/plain": [
       "((567, 10), (462, 10))"
      ]
     },
     "execution_count": 17,
     "metadata": {},
     "output_type": "execute_result"
    }
   ],
   "source": [
    "class_0 = X_train[y_train==0]\n",
    "class_1 = X_train[y_train==1]\n",
    "class_0.shape, class_1.shape"
   ]
  },
  {
   "cell_type": "code",
   "execution_count": 18,
   "metadata": {},
   "outputs": [],
   "source": [
    "class Votes:\n",
    "    def __init__(self, class_0, class_1, draw, no_votes):\n",
    "        self.draw = draw\n",
    "        self.class_0 = class_0\n",
    "        self.class_1 = class_1\n",
    "        self.no_votes = no_votes\n",
    "    \n",
    "    def __str__(self):\n",
    "        return f\"+: {self.class_0}\\n-: {self.class_1}\\n=: {self.draw}\\nx: {self.no_votes}\\n\"\n",
    "    \n",
    "    def __repr__(self):\n",
    "        return str(self)\n",
    "\n",
    "def make_voiting(test_input_x, class_0, class_1, X_all, min_votes=5, min_difference=5):\n",
    "    for_class_0 = 0\n",
    "    for_class_1 = 0\n",
    "    no_votes = 0\n",
    "    draw = 0\n",
    "    \n",
    "    for i in range(X_all.shape[0]):\n",
    "        \n",
    "        base = test_input_x * X_all.iloc[i, :]\n",
    "        g_plus = 1 * (class_0 >= base).min(axis=1).sum()\n",
    "        g_minus = 1 * (class_1 >= base).min(axis=1).sum()\n",
    "        if g_plus < min_votes and g_plus < min_votes:\n",
    "            no_votes += 1\n",
    "        elif abs(g_plus - g_minus) < min_difference:\n",
    "            draw += 1\n",
    "        elif g_plus > g_minus:\n",
    "            for_class_0 +=1\n",
    "        else:\n",
    "            for_class_1 += 1\n",
    "    \n",
    "    return Votes(for_class_0, for_class_1, draw, no_votes)"
   ]
  },
  {
   "cell_type": "code",
   "execution_count": 127,
   "metadata": {},
   "outputs": [],
   "source": [
    "class FCAClassifier:\n",
    "    y_prepred = []\n",
    "    y_test = []\n",
    "    \n",
    "    def __init__(self, class_0, class_1):\n",
    "        self.class_0 = class_0\n",
    "        self.class_1 = class_1\n",
    "        self.all_data = pd.concat([class_0, class_1])\n",
    "    \n",
    "    def evaluater_prepredictions(self, test_data, smooth_parameter=1):\n",
    "        all_data = self.all_data.copy()\n",
    "        class_0 = self.class_0.copy()\n",
    "        class_1 = self.class_1.copy()\n",
    "        result = []\n",
    "        t = dt.now()\n",
    "        for i in range(test_data.shape[0]):\n",
    "            if i % 100 == 0:\n",
    "                print(f\"iteraction {i}/{test_data.shape[0]}, time: {str(dt.now())}\")\n",
    "            x = test_data.iloc[i, :]\n",
    "            votes =  make_voiting(x, class_0, class_1, all_data)\n",
    "            result.append( -1 \n",
    "                          if votes.class_0 == 0 and votes.class_1 == 0\n",
    "                          else\n",
    "                          votes.class_0 / (votes.class_1 + smooth_parameter)\n",
    "            )\n",
    "            self.y_prepred = np.array(result)\n",
    "        self.train_time = (dt.now() - t).microseconds\n",
    "    \n",
    "    def calc_y_pred(self, tau):\n",
    "        self.y_pred = 1 * (self.y_prepred < tau)\n",
    "        self.y_pred[self.y_prepred < 0] = -1\n",
    "    \n",
    "    def caclulate_metrics(self, tau):\n",
    "        self.calc_y_pred(tau)\n",
    "        \n",
    "        self.precision = precision_score(self.y_test, self.y_pred)\n",
    "        self.accuracy = accuracy_score(self.y_test, self.y_pred)\n",
    "        self.recall = recall_score(self.y_test, self.y_pred)\n",
    "        return 1./3 *(self.precision + self.accuracy  + self.recall)"
   ]
  },
  {
   "cell_type": "code",
   "execution_count": 128,
   "metadata": {},
   "outputs": [],
   "source": [
    "class FCAClassifierContinious:\n",
    "    y_prepred = []\n",
    "    y_test = []\n",
    "    \n",
    "    def __init__(self, class_0, class_1):\n",
    "        self.class_0 = class_0\n",
    "        self.class_1 = class_1\n",
    "        self.all_data = pd.concat([class_0, class_1])\n",
    "        \n",
    "    def evaluater_prepredictions_continiously(self, test_data, smooth_parameter=1):\n",
    "        all_data = self.all_data.copy()\n",
    "        class_0 = self.class_0.copy()\n",
    "        class_1 = self.class_1.copy()\n",
    "        \n",
    "        result = []\n",
    "        t = dt.now()\n",
    "        for i in range(test_data.shape[0]):\n",
    "            if i % 100 == 0:\n",
    "                print(f\"iteraction {i}/{test_data.shape[0]}, time: {str(dt.now())}\")\n",
    "            x = test_data.iloc[i, :]\n",
    "            votes =  make_voiting(x, class_0, class_1, all_data)\n",
    "            \n",
    "            result.append( -1 \n",
    "                          if votes.class_0 == 0 and votes.class_1 == 0\n",
    "                          else\n",
    "                          votes.class_0 / (votes.class_1 + smooth_parameter)\n",
    "            )\n",
    "            all_data.append(x)\n",
    "            class_1.append(x) if y_test[i] else class_0.append(x)\n",
    "        self.y_prepred = np.array(result)\n",
    "        self.train_time = (dt.now() - t).microseconds\n",
    "            \n",
    "    \n",
    "    def calc_y_pred(self, tau):\n",
    "        self.y_pred = 1 * (self.y_prepred < tau)\n",
    "        self.y_pred[self.y_prepred < 0] = -1\n",
    "    \n",
    "    def caclulate_metrics(self, tau):\n",
    "        self.calc_y_pred(tau)\n",
    "        \n",
    "        self.precision = precision_score(self.y_test, self.y_pred)\n",
    "        self.accuracy = accuracy_score(self.y_test, self.y_pred)\n",
    "        self.recall = recall_score(self.y_test, self.y_pred)\n",
    "        return 1./3 *(self.precision + self.accuracy  + self.recall)"
   ]
  },
  {
   "cell_type": "code",
   "execution_count": 129,
   "metadata": {},
   "outputs": [],
   "source": [
    "cl = FCAClassifier(class_0, class_1)"
   ]
  },
  {
   "cell_type": "code",
   "execution_count": 130,
   "metadata": {},
   "outputs": [
    {
     "name": "stdout",
     "output_type": "stream",
     "text": [
      "iteraction 0/343, time: 2018-12-15 23:45:20.652213\n",
      "iteraction 100/343, time: 2018-12-15 23:47:18.908740\n",
      "iteraction 200/343, time: 2018-12-15 23:49:17.390320\n",
      "iteraction 300/343, time: 2018-12-15 23:51:13.402851\n"
     ]
    }
   ],
   "source": [
    "cl.evaluater_prepredictions(X_test)"
   ]
  },
  {
   "cell_type": "code",
   "execution_count": 84,
   "metadata": {},
   "outputs": [],
   "source": [
    "clc = FCAClassifierContinious(class_0, class_1)"
   ]
  },
  {
   "cell_type": "code",
   "execution_count": 85,
   "metadata": {},
   "outputs": [
    {
     "name": "stdout",
     "output_type": "stream",
     "text": [
      "iteraction 0/343, time: 2018-12-15 22:52:22.009378\n",
      "iteraction 100/343, time: 2018-12-15 22:54:10.007076\n",
      "iteraction 200/343, time: 2018-12-15 22:55:57.668023\n",
      "iteraction 300/343, time: 2018-12-15 22:57:45.214716\n"
     ]
    }
   ],
   "source": [
    "clc.evaluater_prepredictions_continiously(X_test)"
   ]
  },
  {
   "cell_type": "code",
   "execution_count": 137,
   "metadata": {},
   "outputs": [],
   "source": [
    "cl.y_test = y_test\n",
    "clc.y_test = y_test"
   ]
  },
  {
   "cell_type": "code",
   "execution_count": 138,
   "metadata": {
    "scrolled": true
   },
   "outputs": [
    {
     "data": {
      "image/png": "[encoded data removed]",
      "text/plain": [
       "<Figure size 432x288 with 1 Axes>"
      ]
     },
     "metadata": {
      "needs_background": "light"
     },
     "output_type": "display_data"
    }
   ],
   "source": [
    "# гистрограмма значений классификатора votes+ / (1+votes-)\n",
    "plt.hist(cl.y_prepred[cl.y_prepred < 1000], bins=50);"
   ]
  },
  {
   "cell_type": "code",
   "execution_count": 139,
   "metadata": {},
   "outputs": [
    {
     "data": {
      "image/png": "[encoded data removed]",
      "text/plain": [
       "<Figure size 432x288 with 1 Axes>"
      ]
     },
     "metadata": {
      "needs_background": "light"
     },
     "output_type": "display_data"
    }
   ],
   "source": [
    "# гистрограмма значений классификатора для continious\n",
    "plt.hist(clc.y_prepred[clc.y_prepred < 1000], bins=50);"
   ]
  },
  {
   "cell_type": "code",
   "execution_count": 140,
   "metadata": {},
   "outputs": [],
   "source": [
    "def draw_metrics(classifier, tau_max=18, density=100):\n",
    "    metrics_x = []\n",
    "    metrics_recall = []\n",
    "    metrics_accuracy = []\n",
    "    metrics_precision = []\n",
    "    steps_per_unit = density\n",
    "\n",
    "    for tau_i in range(0, tau_max*steps_per_unit):\n",
    "        tau = 1. * tau_i / steps_per_unit\n",
    "        metrics_x.append(tau)\n",
    "        classifier.caclulate_metrics(tau)\n",
    "        metrics_recall.append(classifier.recall)\n",
    "        metrics_accuracy.append(classifier.accuracy)\n",
    "        metrics_precision.append(classifier.precision)\n",
    "\n",
    "    plt.plot(metrics_x, metrics_recall, c=\"r\")\n",
    "    plt.plot(metrics_x, metrics_accuracy, c=\"b\")\n",
    "    plt.plot(metrics_x, metrics_precision, c=\"g\")\n",
    "    plt.title(\"metrics <-> tau\")\n",
    "    plt.xlabel(\"tau\")\n",
    "    plt.ylabel(\"metric\")\n",
    "    plt.show();"
   ]
  },
  {
   "cell_type": "markdown",
   "metadata": {},
   "source": [
    "# precision, recall and accuracy for different values of tau\n",
    "general and continious method\n"
   ]
  },
  {
   "cell_type": "code",
   "execution_count": 141,
   "metadata": {},
   "outputs": [
    {
     "name": "stderr",
     "output_type": "stream",
     "text": [
      "/Library/Frameworks/Python.framework/Versions/3.7/lib/python3.7/site-packages/sklearn/metrics/classification.py:1143: UndefinedMetricWarning: Precision is ill-defined and being set to 0.0 due to no predicted samples.\n",
      "  'precision', 'predicted', average, warn_for)\n"
     ]
    },
    {
     "data": {
      "image/png": "[encoded data removed]",
      "text/plain": [
       "<Figure size 432x288 with 1 Axes>"
      ]
     },
     "metadata": {
      "needs_background": "light"
     },
     "output_type": "display_data"
    }
   ],
   "source": [
    "draw_metrics(cl)"
   ]
  },
  {
   "cell_type": "code",
   "execution_count": 142,
   "metadata": {
    "scrolled": true
   },
   "outputs": [
    {
     "name": "stderr",
     "output_type": "stream",
     "text": [
      "/Library/Frameworks/Python.framework/Versions/3.7/lib/python3.7/site-packages/sklearn/metrics/classification.py:1143: UndefinedMetricWarning: Precision is ill-defined and being set to 0.0 due to no predicted samples.\n",
      "  'precision', 'predicted', average, warn_for)\n"
     ]
    },
    {
     "data": {
      "image/png": "[encoded data removed]",
      "text/plain": [
       "<Figure size 432x288 with 1 Axes>"
      ]
     },
     "metadata": {
      "needs_background": "light"
     },
     "output_type": "display_data"
    }
   ],
   "source": [
    "# continious case\n",
    "draw_metrics(clc)"
   ]
  },
  {
   "cell_type": "code",
   "execution_count": 143,
   "metadata": {},
   "outputs": [
    {
     "data": {
      "text/plain": [
       "0.8431840070912919"
      ]
     },
     "execution_count": 143,
     "metadata": {},
     "output_type": "execute_result"
    }
   ],
   "source": [
    "best_tau_1 = 3\n",
    "cl.caclulate_metrics(best_tau_1)"
   ]
  },
  {
   "cell_type": "code",
   "execution_count": 144,
   "metadata": {},
   "outputs": [
    {
     "data": {
      "text/plain": [
       "0.8381554443571484"
      ]
     },
     "execution_count": 144,
     "metadata": {},
     "output_type": "execute_result"
    }
   ],
   "source": [
    "best_tau_cont = 6\n",
    "clc.caclulate_metrics(best_tau_cont)"
   ]
  },
  {
   "cell_type": "code",
   "execution_count": 145,
   "metadata": {},
   "outputs": [],
   "source": [
    "metrics.loc[3] = [\"fca\", cl.recall, cl.precision, cl.accuracy, cl.train_time]\n",
    "metrics.loc[4] = [\"fca_cont\", clc.recall, clc.precision, clc.accuracy, clc.train_time]"
   ]
  },
  {
   "cell_type": "markdown",
   "metadata": {},
   "source": [
    "# final metrics comparation"
   ]
  },
  {
   "cell_type": "code",
   "execution_count": 146,
   "metadata": {},
   "outputs": [
    {
     "data": {
      "text/html": [
       "<div>\n",
       "<style scoped>\n",
       "    .dataframe tbody tr th:only-of-type {\n",
       "        vertical-align: middle;\n",
       "    }\n",
       "\n",
       "    .dataframe tbody tr th {\n",
       "        vertical-align: top;\n",
       "    }\n",
       "\n",
       "    .dataframe thead th {\n",
       "        text-align: right;\n",
       "    }\n",
       "</style>\n",
       "<table border=\"1\" class=\"dataframe\">\n",
       "  <thead>\n",
       "    <tr style=\"text-align: right;\">\n",
       "      <th></th>\n",
       "      <th>classifier</th>\n",
       "      <th>recall</th>\n",
       "      <th>precision</th>\n",
       "      <th>accuracy</th>\n",
       "      <th>train_time, ms</th>\n",
       "    </tr>\n",
       "  </thead>\n",
       "  <tbody>\n",
       "    <tr>\n",
       "      <th>0</th>\n",
       "      <td>ridge</td>\n",
       "      <td>0.875000</td>\n",
       "      <td>0.851000</td>\n",
       "      <td>0.883000</td>\n",
       "      <td>4475</td>\n",
       "    </tr>\n",
       "    <tr>\n",
       "      <th>1</th>\n",
       "      <td>knn</td>\n",
       "      <td>0.889000</td>\n",
       "      <td>0.919000</td>\n",
       "      <td>0.915000</td>\n",
       "      <td>1844</td>\n",
       "    </tr>\n",
       "    <tr>\n",
       "      <th>2</th>\n",
       "      <td>tree</td>\n",
       "      <td>0.960000</td>\n",
       "      <td>0.818000</td>\n",
       "      <td>0.907000</td>\n",
       "      <td>908</td>\n",
       "    </tr>\n",
       "    <tr>\n",
       "      <th>3</th>\n",
       "      <td>fca</td>\n",
       "      <td>0.844595</td>\n",
       "      <td>0.827815</td>\n",
       "      <td>0.857143</td>\n",
       "      <td>773936</td>\n",
       "    </tr>\n",
       "    <tr>\n",
       "      <th>4</th>\n",
       "      <td>fca_cont</td>\n",
       "      <td>0.986486</td>\n",
       "      <td>0.708738</td>\n",
       "      <td>0.819242</td>\n",
       "      <td>291426</td>\n",
       "    </tr>\n",
       "  </tbody>\n",
       "</table>\n",
       "</div>"
      ],
      "text/plain": [
       "  classifier    recall  precision  accuracy  train_time, ms\n",
       "0      ridge  0.875000   0.851000  0.883000            4475\n",
       "1        knn  0.889000   0.919000  0.915000            1844\n",
       "2       tree  0.960000   0.818000  0.907000             908\n",
       "3        fca  0.844595   0.827815  0.857143          773936\n",
       "4   fca_cont  0.986486   0.708738  0.819242          291426"
      ]
     },
     "execution_count": 146,
     "metadata": {},
     "output_type": "execute_result"
    }
   ],
   "source": [
    "metrics"
   ]
  },
  {
   "cell_type": "markdown",
   "metadata": {},
   "source": [
    "# Use same approach for iris, 1-st and 2-nd types"
   ]
  },
  {
   "cell_type": "code",
   "execution_count": 147,
   "metadata": {},
   "outputs": [],
   "source": [
    "% run load_iris.ipynb"
   ]
  },
  {
   "cell_type": "code",
   "execution_count": 148,
   "metadata": {},
   "outputs": [],
   "source": [
    "X_iris_train, X_iris_test, y_iris_train, y_iris_test = train_test_split(X_iris, y_iris, random_state=random_state)"
   ]
  },
  {
   "cell_type": "code",
   "execution_count": 149,
   "metadata": {},
   "outputs": [
    {
     "data": {
      "text/plain": [
       "((36, 8), (39, 8))"
      ]
     },
     "execution_count": 149,
     "metadata": {},
     "output_type": "execute_result"
    }
   ],
   "source": [
    "iris_0 = X_iris_train[y_iris_train==0]\n",
    "iris_1 = X_iris_train[y_iris_train==1]\n",
    "iris_0.shape, iris_1.shape"
   ]
  },
  {
   "cell_type": "code",
   "execution_count": 150,
   "metadata": {},
   "outputs": [],
   "source": [
    "cl_iris = FCAClassifier(iris_0, iris_1)"
   ]
  },
  {
   "cell_type": "code",
   "execution_count": 151,
   "metadata": {},
   "outputs": [
    {
     "name": "stdout",
     "output_type": "stream",
     "text": [
      "iteraction 0/25, time: 2018-12-16 00:11:09.946052\n"
     ]
    }
   ],
   "source": [
    "cl_iris.evaluater_prepredictions(X_iris_test)"
   ]
  },
  {
   "cell_type": "code",
   "execution_count": 152,
   "metadata": {},
   "outputs": [],
   "source": [
    "cl_iris.y_test = y_iris_test"
   ]
  },
  {
   "cell_type": "code",
   "execution_count": 153,
   "metadata": {},
   "outputs": [
    {
     "name": "stderr",
     "output_type": "stream",
     "text": [
      "/Library/Frameworks/Python.framework/Versions/3.7/lib/python3.7/site-packages/sklearn/metrics/classification.py:1143: UndefinedMetricWarning: Precision is ill-defined and being set to 0.0 due to no predicted samples.\n",
      "  'precision', 'predicted', average, warn_for)\n"
     ]
    },
    {
     "data": {
      "image/png": "[encoded data removed]",
      "text/plain": [
       "<Figure size 432x288 with 1 Axes>"
      ]
     },
     "metadata": {
      "needs_background": "light"
     },
     "output_type": "display_data"
    }
   ],
   "source": [
    "draw_metrics(cl_iris, 27, 10)"
   ]
  },
  {
   "cell_type": "code",
   "execution_count": 154,
   "metadata": {},
   "outputs": [
    {
     "data": {
      "text/plain": [
       "0.7893939393939393"
      ]
     },
     "execution_count": 154,
     "metadata": {},
     "output_type": "execute_result"
    }
   ],
   "source": []
  },
  {
   "cell_type": "code",
   "execution_count": 168,
   "metadata": {},
   "outputs": [],
   "source": [
    "metrics_iris = pd.DataFrame(columns=[\"tau\", \"recall\", \"precision\", \"accuracy\"])"
   ]
  },
  {
   "cell_type": "code",
   "execution_count": 169,
   "metadata": {},
   "outputs": [],
   "source": [
    "cl_iris.caclulate_metrics(best_tau_1)\n",
    "metrics_iris.loc[0] = [\"banknote value\", cl_iris.recall, cl_iris.precision, cl_iris.accuracy]"
   ]
  },
  {
   "cell_type": "code",
   "execution_count": 170,
   "metadata": {},
   "outputs": [],
   "source": [
    "best_tau_iris = 26"
   ]
  },
  {
   "cell_type": "code",
   "execution_count": 171,
   "metadata": {},
   "outputs": [],
   "source": [
    "cl_iris.caclulate_metrics(best_tau_iris)\n",
    "metrics_iris.loc[1] = [\"optimal value\", cl_iris.recall, cl_iris.precision, cl_iris.accuracy]"
   ]
  },
  {
   "cell_type": "code",
   "execution_count": 172,
   "metadata": {},
   "outputs": [
    {
     "data": {
      "text/html": [
       "<div>\n",
       "<style scoped>\n",
       "    .dataframe tbody tr th:only-of-type {\n",
       "        vertical-align: middle;\n",
       "    }\n",
       "\n",
       "    .dataframe tbody tr th {\n",
       "        vertical-align: top;\n",
       "    }\n",
       "\n",
       "    .dataframe thead th {\n",
       "        text-align: right;\n",
       "    }\n",
       "</style>\n",
       "<table border=\"1\" class=\"dataframe\">\n",
       "  <thead>\n",
       "    <tr style=\"text-align: right;\">\n",
       "      <th></th>\n",
       "      <th>tau</th>\n",
       "      <th>recall</th>\n",
       "      <th>precision</th>\n",
       "      <th>accuracy</th>\n",
       "    </tr>\n",
       "  </thead>\n",
       "  <tbody>\n",
       "    <tr>\n",
       "      <th>0</th>\n",
       "      <td>banknote value</td>\n",
       "      <td>0.818182</td>\n",
       "      <td>0.750000</td>\n",
       "      <td>0.80</td>\n",
       "    </tr>\n",
       "    <tr>\n",
       "      <th>1</th>\n",
       "      <td>optimal value</td>\n",
       "      <td>1.000000</td>\n",
       "      <td>0.785714</td>\n",
       "      <td>0.88</td>\n",
       "    </tr>\n",
       "  </tbody>\n",
       "</table>\n",
       "</div>"
      ],
      "text/plain": [
       "              tau    recall  precision  accuracy\n",
       "0  banknote value  0.818182   0.750000      0.80\n",
       "1   optimal value  1.000000   0.785714      0.88"
      ]
     },
     "execution_count": 172,
     "metadata": {},
     "output_type": "execute_result"
    }
   ],
   "source": [
    "metrics_iris"
   ]
  },
  {
   "cell_type": "code",
   "execution_count": null,
   "metadata": {},
   "outputs": [],
   "source": []
  }
 ],
 "metadata": {
  "kernelspec": {
   "display_name": "Python 3",
   "language": "python",
   "name": "python3"
  },
  "language_info": {
   "codemirror_mode": {
    "name": "ipython",
    "version": 3
   },
   "file_extension": ".py",
   "mimetype": "text/x-python",
   "name": "python",
   "nbconvert_exporter": "python",
   "pygments_lexer": "ipython3",
   "version": "3.7.0"
  }
 },
 "nbformat": 4,
 "nbformat_minor": 2
}
